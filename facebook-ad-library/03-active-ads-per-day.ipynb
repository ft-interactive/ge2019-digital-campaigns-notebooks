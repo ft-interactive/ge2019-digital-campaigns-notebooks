{
 "cells": [
  {
   "cell_type": "code",
   "execution_count": 1,
   "metadata": {},
   "outputs": [],
   "source": [
    "import pandas as pd\n",
    "import feather\n",
    "import altair as alt"
   ]
  },
  {
   "cell_type": "markdown",
   "metadata": {},
   "source": [
    "## Utility functions"
   ]
  },
  {
   "cell_type": "code",
   "execution_count": 2,
   "metadata": {},
   "outputs": [],
   "source": [
    "def is_active(start_date, end_date, funding_entity, current_date, current_entity):\n",
    "    if (\n",
    "        start_date <= current_date\n",
    "        and (end_date >= current_date or pd.isnull(end_date))\n",
    "        and funding_entity == current_entity\n",
    "    ):\n",
    "        return 1\n",
    "\n",
    "    return 0\n",
    "\n",
    "\n",
    "def count_active(date, funder, ads_df):\n",
    "    count = sum(\n",
    "        [\n",
    "            is_active(start, end, entity, date, funder)\n",
    "            for start, end, entity in zip(\n",
    "                ads_df[\"start_normalized\"],\n",
    "                ads_df[\"stop_normalized\"],\n",
    "                ads_df[\"funding_entity\"],\n",
    "            )\n",
    "        ]\n",
    "    )\n",
    "\n",
    "    return count\n",
    "\n",
    "\n",
    "def is_active_registered(start_date, end_date, classification, current_date):\n",
    "    if (\n",
    "        start_date <= current_date\n",
    "        and (end_date >= current_date or pd.isnull(end_date))\n",
    "        and classification == \"Registered non-party campaigner\"\n",
    "    ):\n",
    "        return 1\n",
    "\n",
    "    return 0\n",
    "\n",
    "\n",
    "def count_active_registered(date, ads_df):\n",
    "    count = sum(\n",
    "        [\n",
    "            is_active_registered(start, end, classification, date)\n",
    "            for start, end, classification in zip(\n",
    "                ads_df[\"start_normalized\"],\n",
    "                ads_df[\"stop_normalized\"],\n",
    "                ads_df[\"classification\"],\n",
    "            )\n",
    "        ]\n",
    "    )\n",
    "\n",
    "    return count\n",
    "\n",
    "\n",
    "def is_active_unclassified(\n",
    "    start_date, end_date, funding_entity, classification, current_date\n",
    "):\n",
    "    if (\n",
    "        start_date <= current_date\n",
    "        and (end_date >= current_date or pd.isnull(end_date))\n",
    "        and classification == \"UNCLASSIFIED\"\n",
    "    ):\n",
    "        return 1\n",
    "\n",
    "    return 0\n",
    "\n",
    "\n",
    "def count_active_unclassified(date, ads_df):\n",
    "    count = sum(\n",
    "        [\n",
    "            is_active_unclassified(start, end, entity, classification, date)\n",
    "            for start, end, entity, classification in zip(\n",
    "                ads_df[\"start_normalized\"],\n",
    "                ads_df[\"stop_normalized\"],\n",
    "                ads_df[\"disclaimer\"],\n",
    "                ads_df[\"classification\"],\n",
    "            )\n",
    "        ]\n",
    "    )\n",
    "\n",
    "    return count\n",
    "\n",
    "\n",
    "def is_active_no_funder(start_date, end_date, funding_entity, current_date):\n",
    "    if (\n",
    "        start_date <= current_date\n",
    "        and (end_date >= current_date or pd.isnull(end_date))\n",
    "        and funding_entity == \"missing: funding_entity\"\n",
    "    ):\n",
    "        return 1\n",
    "\n",
    "    return 0\n",
    "\n",
    "\n",
    "def count_active_no_funder(date, ads_df):\n",
    "    count = sum(\n",
    "        [\n",
    "            is_active_no_funder(start, end, entity, date)\n",
    "            for start, end, entity in zip(\n",
    "                ads_df[\"start_normalized\"],\n",
    "                ads_df[\"stop_normalized\"],\n",
    "                ads_df[\"funding_entity\"],\n",
    "            )\n",
    "        ]\n",
    "    )\n",
    "\n",
    "    return count"
   ]
  },
  {
   "cell_type": "markdown",
   "metadata": {},
   "source": [
    "## Load pre-classified funding entities"
   ]
  },
  {
   "cell_type": "code",
   "execution_count": 3,
   "metadata": {},
   "outputs": [
    {
     "name": "stdout",
     "output_type": "stream",
     "text": [
      "1696\n",
      "disclaimer        object\n",
      "classification    object\n",
      "dtype: object\n"
     ]
    },
    {
     "data": {
      "text/html": [
       "<div>\n",
       "<style scoped>\n",
       "    .dataframe tbody tr th:only-of-type {\n",
       "        vertical-align: middle;\n",
       "    }\n",
       "\n",
       "    .dataframe tbody tr th {\n",
       "        vertical-align: top;\n",
       "    }\n",
       "\n",
       "    .dataframe thead th {\n",
       "        text-align: right;\n",
       "    }\n",
       "</style>\n",
       "<table border=\"1\" class=\"dataframe\">\n",
       "  <thead>\n",
       "    <tr style=\"text-align: right;\">\n",
       "      <th></th>\n",
       "      <th>disclaimer</th>\n",
       "      <th>classification</th>\n",
       "    </tr>\n",
       "  </thead>\n",
       "  <tbody>\n",
       "    <tr>\n",
       "      <th>0</th>\n",
       "      <td>10:10 climate action</td>\n",
       "      <td>UNCLASSIFIED</td>\n",
       "    </tr>\n",
       "    <tr>\n",
       "      <th>1</th>\n",
       "      <td>100 million/kscf-us</td>\n",
       "      <td>UNCLASSIFIED</td>\n",
       "    </tr>\n",
       "    <tr>\n",
       "      <th>2</th>\n",
       "      <td>38 degrees</td>\n",
       "      <td>Registered non-party campaigner</td>\n",
       "    </tr>\n",
       "    <tr>\n",
       "      <th>4</th>\n",
       "      <td>5pillars</td>\n",
       "      <td>UNCLASSIFIED</td>\n",
       "    </tr>\n",
       "    <tr>\n",
       "      <th>5</th>\n",
       "      <td>a little bit of stone</td>\n",
       "      <td>UNCLASSIFIED</td>\n",
       "    </tr>\n",
       "  </tbody>\n",
       "</table>\n",
       "</div>"
      ],
      "text/plain": [
       "              disclaimer                   classification\n",
       "0   10:10 climate action                     UNCLASSIFIED\n",
       "1    100 million/kscf-us                     UNCLASSIFIED\n",
       "2             38 degrees  Registered non-party campaigner\n",
       "4               5pillars                     UNCLASSIFIED\n",
       "5  a little bit of stone                     UNCLASSIFIED"
      ]
     },
     "execution_count": 3,
     "metadata": {},
     "output_type": "execute_result"
    }
   ],
   "source": [
    "df_advertisers_classified = (\n",
    "    pd.read_csv(\n",
    "        \"../data/raw/facebook-ad-library/fb-advertisers-classified-2019-12-01.csv\"\n",
    "    )\n",
    "    .assign(disclaimer=lambda df: df[\"disclaimer\"].str.lower().str.strip())\n",
    "    .drop_duplicates(\"disclaimer\")\n",
    ")\n",
    "\n",
    "print(len(df_advertisers_classified))\n",
    "print(df_advertisers_classified.dtypes)\n",
    "df_advertisers_classified.head()"
   ]
  },
  {
   "cell_type": "markdown",
   "metadata": {},
   "source": [
    "## Load ads and merge with classifications"
   ]
  },
  {
   "cell_type": "code",
   "execution_count": 4,
   "metadata": {},
   "outputs": [
    {
     "name": "stdout",
     "output_type": "stream",
     "text": [
      "172352\n",
      "ad_creation_time                datetime64[ns, UTC]\n",
      "ad_creative_body                             object\n",
      "ad_creative_link_caption                     object\n",
      "ad_creative_link_description                 object\n",
      "ad_creative_link_title                       object\n",
      "ad_delivery_start_time          datetime64[ns, UTC]\n",
      "ad_delivery_stop_time           datetime64[ns, UTC]\n",
      "ad_snapshot_url                              object\n",
      "currency                                     object\n",
      "demographic_distribution                     object\n",
      "funding_entity                               object\n",
      "impressions                                  object\n",
      "page_id                                       int64\n",
      "page_name                                    object\n",
      "publisher_platforms                          object\n",
      "region_distribution                          object\n",
      "spend                                        object\n",
      "impressions_lower                             int64\n",
      "impressions_upper                           float64\n",
      "spend_lower                                   int64\n",
      "spend_upper                                 float64\n",
      "ad_id                                        object\n",
      "start_normalized                datetime64[ns, UTC]\n",
      "stop_normalized                 datetime64[ns, UTC]\n",
      "creation_normalized             datetime64[ns, UTC]\n",
      "disclaimer                                   object\n",
      "classification                               object\n",
      "dtype: object\n"
     ]
    },
    {
     "data": {
      "text/html": [
       "<div>\n",
       "<style scoped>\n",
       "    .dataframe tbody tr th:only-of-type {\n",
       "        vertical-align: middle;\n",
       "    }\n",
       "\n",
       "    .dataframe tbody tr th {\n",
       "        vertical-align: top;\n",
       "    }\n",
       "\n",
       "    .dataframe thead th {\n",
       "        text-align: right;\n",
       "    }\n",
       "</style>\n",
       "<table border=\"1\" class=\"dataframe\">\n",
       "  <thead>\n",
       "    <tr style=\"text-align: right;\">\n",
       "      <th></th>\n",
       "      <th>ad_creation_time</th>\n",
       "      <th>ad_creative_body</th>\n",
       "      <th>ad_creative_link_caption</th>\n",
       "      <th>ad_creative_link_description</th>\n",
       "      <th>ad_creative_link_title</th>\n",
       "      <th>ad_delivery_start_time</th>\n",
       "      <th>ad_delivery_stop_time</th>\n",
       "      <th>ad_snapshot_url</th>\n",
       "      <th>currency</th>\n",
       "      <th>demographic_distribution</th>\n",
       "      <th>...</th>\n",
       "      <th>impressions_lower</th>\n",
       "      <th>impressions_upper</th>\n",
       "      <th>spend_lower</th>\n",
       "      <th>spend_upper</th>\n",
       "      <th>ad_id</th>\n",
       "      <th>start_normalized</th>\n",
       "      <th>stop_normalized</th>\n",
       "      <th>creation_normalized</th>\n",
       "      <th>disclaimer</th>\n",
       "      <th>classification</th>\n",
       "    </tr>\n",
       "  </thead>\n",
       "  <tbody>\n",
       "    <tr>\n",
       "      <th>0</th>\n",
       "      <td>2019-12-03 10:25:54+00:00</td>\n",
       "      <td>You have the power to stop Boris Johnson on 12...</td>\n",
       "      <td>remainunited.org</td>\n",
       "      <td>Find out how to vote in your constituency.</td>\n",
       "      <td>Smart, data-driven advice</td>\n",
       "      <td>2019-12-03 10:25:54+00:00</td>\n",
       "      <td>2019-12-06 23:59:00+00:00</td>\n",
       "      <td>https://www.facebook.com/ads/archive/render_ad...</td>\n",
       "      <td>GBP</td>\n",
       "      <td>[{\"percentage\": \"1\", \"age\": \"45-54\", \"gender\":...</td>\n",
       "      <td>...</td>\n",
       "      <td>0</td>\n",
       "      <td>999.0</td>\n",
       "      <td>0</td>\n",
       "      <td>99.0</td>\n",
       "      <td>955935358113516</td>\n",
       "      <td>2019-12-03 00:00:00+00:00</td>\n",
       "      <td>2019-12-06 00:00:00+00:00</td>\n",
       "      <td>2019-12-03 00:00:00+00:00</td>\n",
       "      <td>centrum campaign ltd</td>\n",
       "      <td>Registered non-party campaigner</td>\n",
       "    </tr>\n",
       "    <tr>\n",
       "      <th>1</th>\n",
       "      <td>2019-12-03 10:25:39+00:00</td>\n",
       "      <td>You have the power to stop Boris Johnson on 12...</td>\n",
       "      <td>remainunited.org</td>\n",
       "      <td>Find out how to vote in your constituency.</td>\n",
       "      <td>Smart, data-driven advice</td>\n",
       "      <td>2019-12-03 10:25:39+00:00</td>\n",
       "      <td>2019-12-06 23:59:00+00:00</td>\n",
       "      <td>https://www.facebook.com/ads/archive/render_ad...</td>\n",
       "      <td>GBP</td>\n",
       "      <td>[{\"percentage\": \"1\", \"age\": \"45-54\", \"gender\":...</td>\n",
       "      <td>...</td>\n",
       "      <td>0</td>\n",
       "      <td>999.0</td>\n",
       "      <td>0</td>\n",
       "      <td>99.0</td>\n",
       "      <td>445143209713828</td>\n",
       "      <td>2019-12-03 00:00:00+00:00</td>\n",
       "      <td>2019-12-06 00:00:00+00:00</td>\n",
       "      <td>2019-12-03 00:00:00+00:00</td>\n",
       "      <td>centrum campaign ltd</td>\n",
       "      <td>Registered non-party campaigner</td>\n",
       "    </tr>\n",
       "    <tr>\n",
       "      <th>2</th>\n",
       "      <td>2019-12-03 10:22:47+00:00</td>\n",
       "      <td>You have the power to stop Boris Johnson on 12...</td>\n",
       "      <td>remainunited.org</td>\n",
       "      <td>Find out how to vote in your constituency.</td>\n",
       "      <td>Smart, data-driven advice</td>\n",
       "      <td>2019-12-03 10:22:47+00:00</td>\n",
       "      <td>2019-12-06 23:59:00+00:00</td>\n",
       "      <td>https://www.facebook.com/ads/archive/render_ad...</td>\n",
       "      <td>GBP</td>\n",
       "      <td>[{\"percentage\": \"0.5\", \"age\": \"18-24\", \"gender...</td>\n",
       "      <td>...</td>\n",
       "      <td>0</td>\n",
       "      <td>999.0</td>\n",
       "      <td>0</td>\n",
       "      <td>99.0</td>\n",
       "      <td>579847832831823</td>\n",
       "      <td>2019-12-03 00:00:00+00:00</td>\n",
       "      <td>2019-12-06 00:00:00+00:00</td>\n",
       "      <td>2019-12-03 00:00:00+00:00</td>\n",
       "      <td>centrum campaign ltd</td>\n",
       "      <td>Registered non-party campaigner</td>\n",
       "    </tr>\n",
       "    <tr>\n",
       "      <th>3</th>\n",
       "      <td>2019-12-03 10:21:22+00:00</td>\n",
       "      <td>You have the power to stop Boris Johnson on 12...</td>\n",
       "      <td>remainunited.org</td>\n",
       "      <td>Find out how to vote in your constituency.</td>\n",
       "      <td>Smart, data-driven advice</td>\n",
       "      <td>2019-12-03 10:21:22+00:00</td>\n",
       "      <td>2019-12-06 23:59:00+00:00</td>\n",
       "      <td>https://www.facebook.com/ads/archive/render_ad...</td>\n",
       "      <td>GBP</td>\n",
       "      <td>[{\"percentage\": \"1\", \"age\": \"25-34\", \"gender\":...</td>\n",
       "      <td>...</td>\n",
       "      <td>0</td>\n",
       "      <td>999.0</td>\n",
       "      <td>0</td>\n",
       "      <td>99.0</td>\n",
       "      <td>791774841263210</td>\n",
       "      <td>2019-12-03 00:00:00+00:00</td>\n",
       "      <td>2019-12-06 00:00:00+00:00</td>\n",
       "      <td>2019-12-03 00:00:00+00:00</td>\n",
       "      <td>centrum campaign ltd</td>\n",
       "      <td>Registered non-party campaigner</td>\n",
       "    </tr>\n",
       "    <tr>\n",
       "      <th>4</th>\n",
       "      <td>2019-12-03 10:18:02+00:00</td>\n",
       "      <td>You have the power to stop Boris Johnson on 12...</td>\n",
       "      <td>remainunited.org</td>\n",
       "      <td>Find out how to vote in your constituency.</td>\n",
       "      <td>Smart, data-driven advice</td>\n",
       "      <td>2019-12-03 10:18:02+00:00</td>\n",
       "      <td>2019-12-06 23:59:00+00:00</td>\n",
       "      <td>https://www.facebook.com/ads/archive/render_ad...</td>\n",
       "      <td>GBP</td>\n",
       "      <td>[{\"percentage\": \"0.333333\", \"age\": \"25-34\", \"g...</td>\n",
       "      <td>...</td>\n",
       "      <td>0</td>\n",
       "      <td>999.0</td>\n",
       "      <td>0</td>\n",
       "      <td>99.0</td>\n",
       "      <td>772692536543292</td>\n",
       "      <td>2019-12-03 00:00:00+00:00</td>\n",
       "      <td>2019-12-06 00:00:00+00:00</td>\n",
       "      <td>2019-12-03 00:00:00+00:00</td>\n",
       "      <td>centrum campaign ltd</td>\n",
       "      <td>Registered non-party campaigner</td>\n",
       "    </tr>\n",
       "  </tbody>\n",
       "</table>\n",
       "<p>5 rows × 27 columns</p>\n",
       "</div>"
      ],
      "text/plain": [
       "           ad_creation_time  \\\n",
       "0 2019-12-03 10:25:54+00:00   \n",
       "1 2019-12-03 10:25:39+00:00   \n",
       "2 2019-12-03 10:22:47+00:00   \n",
       "3 2019-12-03 10:21:22+00:00   \n",
       "4 2019-12-03 10:18:02+00:00   \n",
       "\n",
       "                                    ad_creative_body ad_creative_link_caption  \\\n",
       "0  You have the power to stop Boris Johnson on 12...         remainunited.org   \n",
       "1  You have the power to stop Boris Johnson on 12...         remainunited.org   \n",
       "2  You have the power to stop Boris Johnson on 12...         remainunited.org   \n",
       "3  You have the power to stop Boris Johnson on 12...         remainunited.org   \n",
       "4  You have the power to stop Boris Johnson on 12...         remainunited.org   \n",
       "\n",
       "                 ad_creative_link_description     ad_creative_link_title  \\\n",
       "0  Find out how to vote in your constituency.  Smart, data-driven advice   \n",
       "1  Find out how to vote in your constituency.  Smart, data-driven advice   \n",
       "2  Find out how to vote in your constituency.  Smart, data-driven advice   \n",
       "3  Find out how to vote in your constituency.  Smart, data-driven advice   \n",
       "4  Find out how to vote in your constituency.  Smart, data-driven advice   \n",
       "\n",
       "     ad_delivery_start_time     ad_delivery_stop_time  \\\n",
       "0 2019-12-03 10:25:54+00:00 2019-12-06 23:59:00+00:00   \n",
       "1 2019-12-03 10:25:39+00:00 2019-12-06 23:59:00+00:00   \n",
       "2 2019-12-03 10:22:47+00:00 2019-12-06 23:59:00+00:00   \n",
       "3 2019-12-03 10:21:22+00:00 2019-12-06 23:59:00+00:00   \n",
       "4 2019-12-03 10:18:02+00:00 2019-12-06 23:59:00+00:00   \n",
       "\n",
       "                                     ad_snapshot_url currency  \\\n",
       "0  https://www.facebook.com/ads/archive/render_ad...      GBP   \n",
       "1  https://www.facebook.com/ads/archive/render_ad...      GBP   \n",
       "2  https://www.facebook.com/ads/archive/render_ad...      GBP   \n",
       "3  https://www.facebook.com/ads/archive/render_ad...      GBP   \n",
       "4  https://www.facebook.com/ads/archive/render_ad...      GBP   \n",
       "\n",
       "                            demographic_distribution  ... impressions_lower  \\\n",
       "0  [{\"percentage\": \"1\", \"age\": \"45-54\", \"gender\":...  ...                 0   \n",
       "1  [{\"percentage\": \"1\", \"age\": \"45-54\", \"gender\":...  ...                 0   \n",
       "2  [{\"percentage\": \"0.5\", \"age\": \"18-24\", \"gender...  ...                 0   \n",
       "3  [{\"percentage\": \"1\", \"age\": \"25-34\", \"gender\":...  ...                 0   \n",
       "4  [{\"percentage\": \"0.333333\", \"age\": \"25-34\", \"g...  ...                 0   \n",
       "\n",
       "  impressions_upper  spend_lower spend_upper            ad_id  \\\n",
       "0             999.0            0        99.0  955935358113516   \n",
       "1             999.0            0        99.0  445143209713828   \n",
       "2             999.0            0        99.0  579847832831823   \n",
       "3             999.0            0        99.0  791774841263210   \n",
       "4             999.0            0        99.0  772692536543292   \n",
       "\n",
       "           start_normalized           stop_normalized  \\\n",
       "0 2019-12-03 00:00:00+00:00 2019-12-06 00:00:00+00:00   \n",
       "1 2019-12-03 00:00:00+00:00 2019-12-06 00:00:00+00:00   \n",
       "2 2019-12-03 00:00:00+00:00 2019-12-06 00:00:00+00:00   \n",
       "3 2019-12-03 00:00:00+00:00 2019-12-06 00:00:00+00:00   \n",
       "4 2019-12-03 00:00:00+00:00 2019-12-06 00:00:00+00:00   \n",
       "\n",
       "        creation_normalized            disclaimer  \\\n",
       "0 2019-12-03 00:00:00+00:00  centrum campaign ltd   \n",
       "1 2019-12-03 00:00:00+00:00  centrum campaign ltd   \n",
       "2 2019-12-03 00:00:00+00:00  centrum campaign ltd   \n",
       "3 2019-12-03 00:00:00+00:00  centrum campaign ltd   \n",
       "4 2019-12-03 00:00:00+00:00  centrum campaign ltd   \n",
       "\n",
       "                    classification  \n",
       "0  Registered non-party campaigner  \n",
       "1  Registered non-party campaigner  \n",
       "2  Registered non-party campaigner  \n",
       "3  Registered non-party campaigner  \n",
       "4  Registered non-party campaigner  \n",
       "\n",
       "[5 rows x 27 columns]"
      ]
     },
     "execution_count": 4,
     "metadata": {},
     "output_type": "execute_result"
    }
   ],
   "source": [
    "df_ads = (\n",
    "    feather.read_dataframe(\"../data/processed/fb-ads-2019-12-03.feather\")\n",
    "    .assign(funding_entity=lambda df: df[\"funding_entity\"].str.lower().str.strip())\n",
    "    .assign(page_name=lambda df: df[\"page_name\"].str.lower().str.strip())\n",
    "    .assign(start_normalized=lambda df: df[\"ad_delivery_start_time\"].dt.normalize())\n",
    "    .assign(stop_normalized=lambda df: df[\"ad_delivery_stop_time\"].dt.normalize())\n",
    "    .assign(creation_normalized=lambda df: df[\"ad_creation_time\"].dt.normalize())\n",
    "    .merge(\n",
    "        df_advertisers_classified,\n",
    "        \"left\",\n",
    "        left_on=\"funding_entity\",\n",
    "        right_on=\"disclaimer\",\n",
    "    )\n",
    ")\n",
    "\n",
    "print(len(df_ads))\n",
    "print(df_ads.dtypes)\n",
    "df_ads.head()"
   ]
  },
  {
   "cell_type": "markdown",
   "metadata": {},
   "source": [
    "## Count active ads per day"
   ]
  },
  {
   "cell_type": "code",
   "execution_count": 5,
   "metadata": {},
   "outputs": [
    {
     "name": "stdout",
     "output_type": "stream",
     "text": [
      "62\n",
      "date            datetime64[ns, UTC]\n",
      "con                           int64\n",
      "scot_con                      int64\n",
      "lab                           int64\n",
      "corbyn                        int64\n",
      "scot_lab                      int64\n",
      "wal_lab                       int64\n",
      "lib                           int64\n",
      "brx                           int64\n",
      "wal_brx                       int64\n",
      "gre                           int64\n",
      "registered                    int64\n",
      "unclassified                  int64\n",
      "no_funder                     int64\n",
      "dtype: object\n"
     ]
    },
    {
     "data": {
      "text/html": [
       "<div>\n",
       "<style scoped>\n",
       "    .dataframe tbody tr th:only-of-type {\n",
       "        vertical-align: middle;\n",
       "    }\n",
       "\n",
       "    .dataframe tbody tr th {\n",
       "        vertical-align: top;\n",
       "    }\n",
       "\n",
       "    .dataframe thead th {\n",
       "        text-align: right;\n",
       "    }\n",
       "</style>\n",
       "<table border=\"1\" class=\"dataframe\">\n",
       "  <thead>\n",
       "    <tr style=\"text-align: right;\">\n",
       "      <th></th>\n",
       "      <th>date</th>\n",
       "      <th>con</th>\n",
       "      <th>scot_con</th>\n",
       "      <th>lab</th>\n",
       "      <th>corbyn</th>\n",
       "      <th>scot_lab</th>\n",
       "      <th>wal_lab</th>\n",
       "      <th>lib</th>\n",
       "      <th>brx</th>\n",
       "      <th>wal_brx</th>\n",
       "      <th>gre</th>\n",
       "      <th>registered</th>\n",
       "      <th>unclassified</th>\n",
       "      <th>no_funder</th>\n",
       "    </tr>\n",
       "  </thead>\n",
       "  <tbody>\n",
       "    <tr>\n",
       "      <th>0</th>\n",
       "      <td>2019-10-01 00:00:00+00:00</td>\n",
       "      <td>9157</td>\n",
       "      <td>0</td>\n",
       "      <td>639</td>\n",
       "      <td>0</td>\n",
       "      <td>18</td>\n",
       "      <td>1</td>\n",
       "      <td>1037</td>\n",
       "      <td>111</td>\n",
       "      <td>0</td>\n",
       "      <td>0</td>\n",
       "      <td>7596</td>\n",
       "      <td>3474</td>\n",
       "      <td>14522</td>\n",
       "    </tr>\n",
       "    <tr>\n",
       "      <th>1</th>\n",
       "      <td>2019-10-02 00:00:00+00:00</td>\n",
       "      <td>9157</td>\n",
       "      <td>0</td>\n",
       "      <td>643</td>\n",
       "      <td>0</td>\n",
       "      <td>18</td>\n",
       "      <td>0</td>\n",
       "      <td>1043</td>\n",
       "      <td>111</td>\n",
       "      <td>0</td>\n",
       "      <td>0</td>\n",
       "      <td>7596</td>\n",
       "      <td>3489</td>\n",
       "      <td>14563</td>\n",
       "    </tr>\n",
       "    <tr>\n",
       "      <th>2</th>\n",
       "      <td>2019-10-03 00:00:00+00:00</td>\n",
       "      <td>9160</td>\n",
       "      <td>0</td>\n",
       "      <td>648</td>\n",
       "      <td>0</td>\n",
       "      <td>18</td>\n",
       "      <td>1</td>\n",
       "      <td>1043</td>\n",
       "      <td>112</td>\n",
       "      <td>0</td>\n",
       "      <td>0</td>\n",
       "      <td>7600</td>\n",
       "      <td>3491</td>\n",
       "      <td>14658</td>\n",
       "    </tr>\n",
       "    <tr>\n",
       "      <th>3</th>\n",
       "      <td>2019-10-04 00:00:00+00:00</td>\n",
       "      <td>9160</td>\n",
       "      <td>0</td>\n",
       "      <td>648</td>\n",
       "      <td>0</td>\n",
       "      <td>18</td>\n",
       "      <td>0</td>\n",
       "      <td>1043</td>\n",
       "      <td>112</td>\n",
       "      <td>0</td>\n",
       "      <td>0</td>\n",
       "      <td>7642</td>\n",
       "      <td>3553</td>\n",
       "      <td>14866</td>\n",
       "    </tr>\n",
       "    <tr>\n",
       "      <th>4</th>\n",
       "      <td>2019-10-05 00:00:00+00:00</td>\n",
       "      <td>9159</td>\n",
       "      <td>0</td>\n",
       "      <td>636</td>\n",
       "      <td>0</td>\n",
       "      <td>17</td>\n",
       "      <td>0</td>\n",
       "      <td>1043</td>\n",
       "      <td>112</td>\n",
       "      <td>0</td>\n",
       "      <td>0</td>\n",
       "      <td>7640</td>\n",
       "      <td>3543</td>\n",
       "      <td>14859</td>\n",
       "    </tr>\n",
       "  </tbody>\n",
       "</table>\n",
       "</div>"
      ],
      "text/plain": [
       "                       date   con  scot_con  lab  corbyn  scot_lab  wal_lab  \\\n",
       "0 2019-10-01 00:00:00+00:00  9157         0  639       0        18        1   \n",
       "1 2019-10-02 00:00:00+00:00  9157         0  643       0        18        0   \n",
       "2 2019-10-03 00:00:00+00:00  9160         0  648       0        18        1   \n",
       "3 2019-10-04 00:00:00+00:00  9160         0  648       0        18        0   \n",
       "4 2019-10-05 00:00:00+00:00  9159         0  636       0        17        0   \n",
       "\n",
       "    lib  brx  wal_brx  gre  registered  unclassified  no_funder  \n",
       "0  1037  111        0    0        7596          3474      14522  \n",
       "1  1043  111        0    0        7596          3489      14563  \n",
       "2  1043  112        0    0        7600          3491      14658  \n",
       "3  1043  112        0    0        7642          3553      14866  \n",
       "4  1043  112        0    0        7640          3543      14859  "
      ]
     },
     "execution_count": 5,
     "metadata": {},
     "output_type": "execute_result"
    }
   ],
   "source": [
    "df_active_daily = (\n",
    "    pd.DataFrame(\n",
    "        {\"date\": pd.date_range(start=\"2019-10-01\", end=\"2019-12-01\").tz_localize(\"UTC\")}\n",
    "    )\n",
    "    .assign(\n",
    "        con=lambda df: [\n",
    "            count_active(date, \"the conservative party\", df_ads) for date in df[\"date\"]\n",
    "        ]\n",
    "    )\n",
    "    .assign(\n",
    "        scot_con=lambda df: [\n",
    "            count_active(date, \"scottish conservatives\", df_ads) for date in df[\"date\"]\n",
    "        ]\n",
    "    )\n",
    "    .assign(\n",
    "        lab=lambda df: [\n",
    "            count_active(date, \"the labour party\", df_ads) for date in df[\"date\"]\n",
    "        ]\n",
    "    )\n",
    "    .assign(\n",
    "        corbyn=lambda df: [\n",
    "            count_active(date, \"the labour party on behalf of jeremy corbyn\", df_ads)\n",
    "            for date in df[\"date\"]\n",
    "        ]\n",
    "    )\n",
    "    .assign(\n",
    "        scot_lab=lambda df: [\n",
    "            count_active(date, \"scottish labour party\", df_ads) for date in df[\"date\"]\n",
    "        ]\n",
    "    )\n",
    "    .assign(\n",
    "        wal_lab=lambda df: [\n",
    "            count_active(date, \"welsh labour\", df_ads) for date in df[\"date\"]\n",
    "        ]\n",
    "    )\n",
    "    .assign(\n",
    "        lib=lambda df: [\n",
    "            count_active(date, \"the liberal democrats\", df_ads) for date in df[\"date\"]\n",
    "        ]\n",
    "    )\n",
    "    .assign(\n",
    "        brx=lambda df: [\n",
    "            count_active(date, \"the brexit party\", df_ads) for date in df[\"date\"]\n",
    "        ]\n",
    "    )\n",
    "    .assign(\n",
    "        wal_brx=lambda df: [\n",
    "            count_active(date, \"the brexit party in wales\", df_ads)\n",
    "            for date in df[\"date\"]\n",
    "        ]\n",
    "    )\n",
    "    .assign(\n",
    "        gre=lambda df: [\n",
    "            count_active(date, \"green party of england and wales\", df_ads)\n",
    "            for date in df[\"date\"]\n",
    "        ]\n",
    "    )\n",
    "#     .assign(\n",
    "#         dup=lambda df: [\n",
    "#             count_active(date, \"democratic unionist party\", df_ads)\n",
    "#             for date in df[\"date\"]\n",
    "#         ]\n",
    "#     )\n",
    "#     .assign(\n",
    "#         pla=lambda df: [\n",
    "#             count_active(date, \"plaid cymru\", df_ads) for date in df[\"date\"]\n",
    "#         ]\n",
    "#     )\n",
    "    .assign(\n",
    "        registered=lambda df: [\n",
    "            count_active_registered(date, df_ads) for date in df[\"date\"]\n",
    "        ]\n",
    "    )\n",
    "    .assign(\n",
    "        unclassified=lambda df: [\n",
    "            count_active_unclassified(date, df_ads) for date in df[\"date\"]\n",
    "        ]\n",
    "    )\n",
    "    .assign(\n",
    "        no_funder=lambda df: [\n",
    "            count_active_no_funder(date, df_ads) for date in df[\"date\"]\n",
    "        ]\n",
    "    )\n",
    ")\n",
    "\n",
    "print(len(df_active_daily))\n",
    "print(df_active_daily.dtypes)\n",
    "df_active_daily.head()"
   ]
  },
  {
   "cell_type": "markdown",
   "metadata": {},
   "source": [
    "## Transform for plotting"
   ]
  },
  {
   "cell_type": "code",
   "execution_count": 6,
   "metadata": {},
   "outputs": [
    {
     "data": {
      "text/plain": [
       "{'no_funder': 0,\n",
       " 'unclassified': 1,\n",
       " 'registered': 2,\n",
       " 'gre': 3,\n",
       " 'brx': 4,\n",
       " 'lab': 5,\n",
       " 'lib': 6,\n",
       " 'con': 7}"
      ]
     },
     "execution_count": 6,
     "metadata": {},
     "output_type": "execute_result"
    }
   ],
   "source": [
    "series_order = {\n",
    "    \"no_funder\": 0,\n",
    "    \"unclassified\": 1,\n",
    "    \"registered\": 2,\n",
    "    \"gre\": 3,\n",
    "    \"brx\": 4,\n",
    "    \"lab\": 5,\n",
    "    \"lib\": 6,\n",
    "    \"con\": 7,\n",
    "}\n",
    "\n",
    "series_order"
   ]
  },
  {
   "cell_type": "code",
   "execution_count": 7,
   "metadata": {},
   "outputs": [
    {
     "data": {
      "text/html": [
       "<div>\n",
       "<style scoped>\n",
       "    .dataframe tbody tr th:only-of-type {\n",
       "        vertical-align: middle;\n",
       "    }\n",
       "\n",
       "    .dataframe tbody tr th {\n",
       "        vertical-align: top;\n",
       "    }\n",
       "\n",
       "    .dataframe thead th {\n",
       "        text-align: right;\n",
       "    }\n",
       "</style>\n",
       "<table border=\"1\" class=\"dataframe\">\n",
       "  <thead>\n",
       "    <tr style=\"text-align: right;\">\n",
       "      <th></th>\n",
       "      <th>date</th>\n",
       "      <th>funder</th>\n",
       "      <th>active_ads</th>\n",
       "      <th>order</th>\n",
       "    </tr>\n",
       "  </thead>\n",
       "  <tbody>\n",
       "    <tr>\n",
       "      <th>0</th>\n",
       "      <td>2019-10-01 00:00:00+00:00</td>\n",
       "      <td>con</td>\n",
       "      <td>9157</td>\n",
       "      <td>7</td>\n",
       "    </tr>\n",
       "    <tr>\n",
       "      <th>1</th>\n",
       "      <td>2019-10-02 00:00:00+00:00</td>\n",
       "      <td>con</td>\n",
       "      <td>9157</td>\n",
       "      <td>7</td>\n",
       "    </tr>\n",
       "    <tr>\n",
       "      <th>2</th>\n",
       "      <td>2019-10-03 00:00:00+00:00</td>\n",
       "      <td>con</td>\n",
       "      <td>9160</td>\n",
       "      <td>7</td>\n",
       "    </tr>\n",
       "    <tr>\n",
       "      <th>3</th>\n",
       "      <td>2019-10-04 00:00:00+00:00</td>\n",
       "      <td>con</td>\n",
       "      <td>9160</td>\n",
       "      <td>7</td>\n",
       "    </tr>\n",
       "    <tr>\n",
       "      <th>4</th>\n",
       "      <td>2019-10-05 00:00:00+00:00</td>\n",
       "      <td>con</td>\n",
       "      <td>9159</td>\n",
       "      <td>7</td>\n",
       "    </tr>\n",
       "  </tbody>\n",
       "</table>\n",
       "</div>"
      ],
      "text/plain": [
       "                       date funder  active_ads  order\n",
       "0 2019-10-01 00:00:00+00:00    con        9157      7\n",
       "1 2019-10-02 00:00:00+00:00    con        9157      7\n",
       "2 2019-10-03 00:00:00+00:00    con        9160      7\n",
       "3 2019-10-04 00:00:00+00:00    con        9160      7\n",
       "4 2019-10-05 00:00:00+00:00    con        9159      7"
      ]
     },
     "execution_count": 7,
     "metadata": {},
     "output_type": "execute_result"
    }
   ],
   "source": [
    "df_active_plot = (\n",
    "    df_active_daily.copy()\n",
    "    .assign(con=lambda df: df[\"con\"] + df[\"scot_con\"])\n",
    "    .assign(lab=lambda df: df[\"lab\"] + df[\"corbyn\"] + df[\"scot_lab\"] + df[\"wal_lab\"])\n",
    "    .assign(brx=lambda df: df[\"brx\"] + df[\"wal_brx\"])\n",
    "    .drop([\"scot_con\", \"corbyn\", \"scot_lab\", \"wal_lab\", \"wal_brx\"], axis=1)\n",
    "    .melt(\n",
    "        id_vars=[\"date\"],\n",
    "        value_vars=[\n",
    "            \"con\",\n",
    "            \"lab\",\n",
    "            \"lib\",\n",
    "            \"brx\",\n",
    "            \"gre\",\n",
    "            \"registered\",\n",
    "            \"unclassified\",\n",
    "            \"no_funder\",\n",
    "        ],\n",
    "        var_name=\"funder\",\n",
    "        value_name=\"active_ads\",\n",
    "    )\n",
    "    .assign(order=lambda df: df[\"funder\"].apply(lambda x: series_order.get(x)))\n",
    ")\n",
    "\n",
    "df_active_plot.head()"
   ]
  },
  {
   "cell_type": "markdown",
   "metadata": {},
   "source": [
    "## Plot area"
   ]
  },
  {
   "cell_type": "code",
   "execution_count": 8,
   "metadata": {},
   "outputs": [],
   "source": [
    "parties_palette = alt.Scale(\n",
    "    domain=[\"con\", \"lab\", \"lib\", \"brx\", \"gre\", \"no_funder\", \"unclassified\", \"registered\"],\n",
    "    range=[\"#149adb\", \"#cf4d3c\", \"#f09000\", \"#80cfd6\", \"#8deb9d\", \"#33302e\", \"#807973\", \"#ccc1b7\"],\n",
    ")"
   ]
  },
  {
   "cell_type": "code",
   "execution_count": 9,
   "metadata": {},
   "outputs": [
    {
     "data": {
      "application/vnd.vegalite.v3+json": {
       "$schema": "https://vega.github.io/schema/vega-lite/v3.4.0.json",
       "background": "#fff1e5",
       "config": {
        "mark": {
         "tooltip": null
        },
        "view": {
         "height": 300,
         "width": 400
        }
       },
       "data": {
        "name": "data-67a22da8965614d42d82733e1879033e"
       },
       "datasets": {
        "data-67a22da8965614d42d82733e1879033e": [
         {
          "active_ads": 9157,
          "date": "2019-10-01T00:00:00+00:00",
          "funder": "con",
          "order": 7
         },
         {
          "active_ads": 9157,
          "date": "2019-10-02T00:00:00+00:00",
          "funder": "con",
          "order": 7
         },
         {
          "active_ads": 9160,
          "date": "2019-10-03T00:00:00+00:00",
          "funder": "con",
          "order": 7
         },
         {
          "active_ads": 9160,
          "date": "2019-10-04T00:00:00+00:00",
          "funder": "con",
          "order": 7
         },
         {
          "active_ads": 9159,
          "date": "2019-10-05T00:00:00+00:00",
          "funder": "con",
          "order": 7
         },
         {
          "active_ads": 9157,
          "date": "2019-10-06T00:00:00+00:00",
          "funder": "con",
          "order": 7
         },
         {
          "active_ads": 9158,
          "date": "2019-10-07T00:00:00+00:00",
          "funder": "con",
          "order": 7
         },
         {
          "active_ads": 9155,
          "date": "2019-10-08T00:00:00+00:00",
          "funder": "con",
          "order": 7
         },
         {
          "active_ads": 9157,
          "date": "2019-10-09T00:00:00+00:00",
          "funder": "con",
          "order": 7
         },
         {
          "active_ads": 9157,
          "date": "2019-10-10T00:00:00+00:00",
          "funder": "con",
          "order": 7
         },
         {
          "active_ads": 9158,
          "date": "2019-10-11T00:00:00+00:00",
          "funder": "con",
          "order": 7
         },
         {
          "active_ads": 9162,
          "date": "2019-10-12T00:00:00+00:00",
          "funder": "con",
          "order": 7
         },
         {
          "active_ads": 9161,
          "date": "2019-10-13T00:00:00+00:00",
          "funder": "con",
          "order": 7
         },
         {
          "active_ads": 9156,
          "date": "2019-10-14T00:00:00+00:00",
          "funder": "con",
          "order": 7
         },
         {
          "active_ads": 9159,
          "date": "2019-10-15T00:00:00+00:00",
          "funder": "con",
          "order": 7
         },
         {
          "active_ads": 9161,
          "date": "2019-10-16T00:00:00+00:00",
          "funder": "con",
          "order": 7
         },
         {
          "active_ads": 9164,
          "date": "2019-10-17T00:00:00+00:00",
          "funder": "con",
          "order": 7
         },
         {
          "active_ads": 9171,
          "date": "2019-10-18T00:00:00+00:00",
          "funder": "con",
          "order": 7
         },
         {
          "active_ads": 9171,
          "date": "2019-10-19T00:00:00+00:00",
          "funder": "con",
          "order": 7
         },
         {
          "active_ads": 9171,
          "date": "2019-10-20T00:00:00+00:00",
          "funder": "con",
          "order": 7
         },
         {
          "active_ads": 9203,
          "date": "2019-10-21T00:00:00+00:00",
          "funder": "con",
          "order": 7
         },
         {
          "active_ads": 9226,
          "date": "2019-10-22T00:00:00+00:00",
          "funder": "con",
          "order": 7
         },
         {
          "active_ads": 9245,
          "date": "2019-10-23T00:00:00+00:00",
          "funder": "con",
          "order": 7
         },
         {
          "active_ads": 9260,
          "date": "2019-10-24T00:00:00+00:00",
          "funder": "con",
          "order": 7
         },
         {
          "active_ads": 9265,
          "date": "2019-10-25T00:00:00+00:00",
          "funder": "con",
          "order": 7
         },
         {
          "active_ads": 9274,
          "date": "2019-10-26T00:00:00+00:00",
          "funder": "con",
          "order": 7
         },
         {
          "active_ads": 9271,
          "date": "2019-10-27T00:00:00+00:00",
          "funder": "con",
          "order": 7
         },
         {
          "active_ads": 9271,
          "date": "2019-10-28T00:00:00+00:00",
          "funder": "con",
          "order": 7
         },
         {
          "active_ads": 9250,
          "date": "2019-10-29T00:00:00+00:00",
          "funder": "con",
          "order": 7
         },
         {
          "active_ads": 9250,
          "date": "2019-10-30T00:00:00+00:00",
          "funder": "con",
          "order": 7
         },
         {
          "active_ads": 9254,
          "date": "2019-10-31T00:00:00+00:00",
          "funder": "con",
          "order": 7
         },
         {
          "active_ads": 9303,
          "date": "2019-11-01T00:00:00+00:00",
          "funder": "con",
          "order": 7
         },
         {
          "active_ads": 9340,
          "date": "2019-11-02T00:00:00+00:00",
          "funder": "con",
          "order": 7
         },
         {
          "active_ads": 9340,
          "date": "2019-11-03T00:00:00+00:00",
          "funder": "con",
          "order": 7
         },
         {
          "active_ads": 9341,
          "date": "2019-11-04T00:00:00+00:00",
          "funder": "con",
          "order": 7
         },
         {
          "active_ads": 9339,
          "date": "2019-11-05T00:00:00+00:00",
          "funder": "con",
          "order": 7
         },
         {
          "active_ads": 9267,
          "date": "2019-11-06T00:00:00+00:00",
          "funder": "con",
          "order": 7
         },
         {
          "active_ads": 9280,
          "date": "2019-11-07T00:00:00+00:00",
          "funder": "con",
          "order": 7
         },
         {
          "active_ads": 9284,
          "date": "2019-11-08T00:00:00+00:00",
          "funder": "con",
          "order": 7
         },
         {
          "active_ads": 9291,
          "date": "2019-11-09T00:00:00+00:00",
          "funder": "con",
          "order": 7
         },
         {
          "active_ads": 9290,
          "date": "2019-11-10T00:00:00+00:00",
          "funder": "con",
          "order": 7
         },
         {
          "active_ads": 9307,
          "date": "2019-11-11T00:00:00+00:00",
          "funder": "con",
          "order": 7
         },
         {
          "active_ads": 9312,
          "date": "2019-11-12T00:00:00+00:00",
          "funder": "con",
          "order": 7
         },
         {
          "active_ads": 9345,
          "date": "2019-11-13T00:00:00+00:00",
          "funder": "con",
          "order": 7
         },
         {
          "active_ads": 9369,
          "date": "2019-11-14T00:00:00+00:00",
          "funder": "con",
          "order": 7
         },
         {
          "active_ads": 9385,
          "date": "2019-11-15T00:00:00+00:00",
          "funder": "con",
          "order": 7
         },
         {
          "active_ads": 9390,
          "date": "2019-11-16T00:00:00+00:00",
          "funder": "con",
          "order": 7
         },
         {
          "active_ads": 9392,
          "date": "2019-11-17T00:00:00+00:00",
          "funder": "con",
          "order": 7
         },
         {
          "active_ads": 9400,
          "date": "2019-11-18T00:00:00+00:00",
          "funder": "con",
          "order": 7
         },
         {
          "active_ads": 9421,
          "date": "2019-11-19T00:00:00+00:00",
          "funder": "con",
          "order": 7
         },
         {
          "active_ads": 9457,
          "date": "2019-11-20T00:00:00+00:00",
          "funder": "con",
          "order": 7
         },
         {
          "active_ads": 9475,
          "date": "2019-11-21T00:00:00+00:00",
          "funder": "con",
          "order": 7
         },
         {
          "active_ads": 9478,
          "date": "2019-11-22T00:00:00+00:00",
          "funder": "con",
          "order": 7
         },
         {
          "active_ads": 9473,
          "date": "2019-11-23T00:00:00+00:00",
          "funder": "con",
          "order": 7
         },
         {
          "active_ads": 9476,
          "date": "2019-11-24T00:00:00+00:00",
          "funder": "con",
          "order": 7
         },
         {
          "active_ads": 9590,
          "date": "2019-11-25T00:00:00+00:00",
          "funder": "con",
          "order": 7
         },
         {
          "active_ads": 9624,
          "date": "2019-11-26T00:00:00+00:00",
          "funder": "con",
          "order": 7
         },
         {
          "active_ads": 9649,
          "date": "2019-11-27T00:00:00+00:00",
          "funder": "con",
          "order": 7
         },
         {
          "active_ads": 9604,
          "date": "2019-11-28T00:00:00+00:00",
          "funder": "con",
          "order": 7
         },
         {
          "active_ads": 9549,
          "date": "2019-11-29T00:00:00+00:00",
          "funder": "con",
          "order": 7
         },
         {
          "active_ads": 9525,
          "date": "2019-11-30T00:00:00+00:00",
          "funder": "con",
          "order": 7
         },
         {
          "active_ads": 12102,
          "date": "2019-12-01T00:00:00+00:00",
          "funder": "con",
          "order": 7
         },
         {
          "active_ads": 658,
          "date": "2019-10-01T00:00:00+00:00",
          "funder": "lab",
          "order": 5
         },
         {
          "active_ads": 661,
          "date": "2019-10-02T00:00:00+00:00",
          "funder": "lab",
          "order": 5
         },
         {
          "active_ads": 667,
          "date": "2019-10-03T00:00:00+00:00",
          "funder": "lab",
          "order": 5
         },
         {
          "active_ads": 666,
          "date": "2019-10-04T00:00:00+00:00",
          "funder": "lab",
          "order": 5
         },
         {
          "active_ads": 653,
          "date": "2019-10-05T00:00:00+00:00",
          "funder": "lab",
          "order": 5
         },
         {
          "active_ads": 652,
          "date": "2019-10-06T00:00:00+00:00",
          "funder": "lab",
          "order": 5
         },
         {
          "active_ads": 652,
          "date": "2019-10-07T00:00:00+00:00",
          "funder": "lab",
          "order": 5
         },
         {
          "active_ads": 634,
          "date": "2019-10-08T00:00:00+00:00",
          "funder": "lab",
          "order": 5
         },
         {
          "active_ads": 661,
          "date": "2019-10-09T00:00:00+00:00",
          "funder": "lab",
          "order": 5
         },
         {
          "active_ads": 665,
          "date": "2019-10-10T00:00:00+00:00",
          "funder": "lab",
          "order": 5
         },
         {
          "active_ads": 666,
          "date": "2019-10-11T00:00:00+00:00",
          "funder": "lab",
          "order": 5
         },
         {
          "active_ads": 663,
          "date": "2019-10-12T00:00:00+00:00",
          "funder": "lab",
          "order": 5
         },
         {
          "active_ads": 663,
          "date": "2019-10-13T00:00:00+00:00",
          "funder": "lab",
          "order": 5
         },
         {
          "active_ads": 662,
          "date": "2019-10-14T00:00:00+00:00",
          "funder": "lab",
          "order": 5
         },
         {
          "active_ads": 675,
          "date": "2019-10-15T00:00:00+00:00",
          "funder": "lab",
          "order": 5
         },
         {
          "active_ads": 727,
          "date": "2019-10-16T00:00:00+00:00",
          "funder": "lab",
          "order": 5
         },
         {
          "active_ads": 822,
          "date": "2019-10-17T00:00:00+00:00",
          "funder": "lab",
          "order": 5
         },
         {
          "active_ads": 864,
          "date": "2019-10-18T00:00:00+00:00",
          "funder": "lab",
          "order": 5
         },
         {
          "active_ads": 866,
          "date": "2019-10-19T00:00:00+00:00",
          "funder": "lab",
          "order": 5
         },
         {
          "active_ads": 868,
          "date": "2019-10-20T00:00:00+00:00",
          "funder": "lab",
          "order": 5
         },
         {
          "active_ads": 866,
          "date": "2019-10-21T00:00:00+00:00",
          "funder": "lab",
          "order": 5
         },
         {
          "active_ads": 863,
          "date": "2019-10-22T00:00:00+00:00",
          "funder": "lab",
          "order": 5
         },
         {
          "active_ads": 859,
          "date": "2019-10-23T00:00:00+00:00",
          "funder": "lab",
          "order": 5
         },
         {
          "active_ads": 985,
          "date": "2019-10-24T00:00:00+00:00",
          "funder": "lab",
          "order": 5
         },
         {
          "active_ads": 1030,
          "date": "2019-10-25T00:00:00+00:00",
          "funder": "lab",
          "order": 5
         },
         {
          "active_ads": 1026,
          "date": "2019-10-26T00:00:00+00:00",
          "funder": "lab",
          "order": 5
         },
         {
          "active_ads": 1025,
          "date": "2019-10-27T00:00:00+00:00",
          "funder": "lab",
          "order": 5
         },
         {
          "active_ads": 1029,
          "date": "2019-10-28T00:00:00+00:00",
          "funder": "lab",
          "order": 5
         },
         {
          "active_ads": 1037,
          "date": "2019-10-29T00:00:00+00:00",
          "funder": "lab",
          "order": 5
         },
         {
          "active_ads": 1069,
          "date": "2019-10-30T00:00:00+00:00",
          "funder": "lab",
          "order": 5
         },
         {
          "active_ads": 1110,
          "date": "2019-10-31T00:00:00+00:00",
          "funder": "lab",
          "order": 5
         },
         {
          "active_ads": 1128,
          "date": "2019-11-01T00:00:00+00:00",
          "funder": "lab",
          "order": 5
         },
         {
          "active_ads": 1139,
          "date": "2019-11-02T00:00:00+00:00",
          "funder": "lab",
          "order": 5
         },
         {
          "active_ads": 1151,
          "date": "2019-11-03T00:00:00+00:00",
          "funder": "lab",
          "order": 5
         },
         {
          "active_ads": 1136,
          "date": "2019-11-04T00:00:00+00:00",
          "funder": "lab",
          "order": 5
         },
         {
          "active_ads": 1139,
          "date": "2019-11-05T00:00:00+00:00",
          "funder": "lab",
          "order": 5
         },
         {
          "active_ads": 1125,
          "date": "2019-11-06T00:00:00+00:00",
          "funder": "lab",
          "order": 5
         },
         {
          "active_ads": 1016,
          "date": "2019-11-07T00:00:00+00:00",
          "funder": "lab",
          "order": 5
         },
         {
          "active_ads": 1073,
          "date": "2019-11-08T00:00:00+00:00",
          "funder": "lab",
          "order": 5
         },
         {
          "active_ads": 1079,
          "date": "2019-11-09T00:00:00+00:00",
          "funder": "lab",
          "order": 5
         },
         {
          "active_ads": 1085,
          "date": "2019-11-10T00:00:00+00:00",
          "funder": "lab",
          "order": 5
         },
         {
          "active_ads": 1123,
          "date": "2019-11-11T00:00:00+00:00",
          "funder": "lab",
          "order": 5
         },
         {
          "active_ads": 1153,
          "date": "2019-11-12T00:00:00+00:00",
          "funder": "lab",
          "order": 5
         },
         {
          "active_ads": 1208,
          "date": "2019-11-13T00:00:00+00:00",
          "funder": "lab",
          "order": 5
         },
         {
          "active_ads": 1294,
          "date": "2019-11-14T00:00:00+00:00",
          "funder": "lab",
          "order": 5
         },
         {
          "active_ads": 1332,
          "date": "2019-11-15T00:00:00+00:00",
          "funder": "lab",
          "order": 5
         },
         {
          "active_ads": 1302,
          "date": "2019-11-16T00:00:00+00:00",
          "funder": "lab",
          "order": 5
         },
         {
          "active_ads": 1375,
          "date": "2019-11-17T00:00:00+00:00",
          "funder": "lab",
          "order": 5
         },
         {
          "active_ads": 1412,
          "date": "2019-11-18T00:00:00+00:00",
          "funder": "lab",
          "order": 5
         },
         {
          "active_ads": 1493,
          "date": "2019-11-19T00:00:00+00:00",
          "funder": "lab",
          "order": 5
         },
         {
          "active_ads": 1525,
          "date": "2019-11-20T00:00:00+00:00",
          "funder": "lab",
          "order": 5
         },
         {
          "active_ads": 1536,
          "date": "2019-11-21T00:00:00+00:00",
          "funder": "lab",
          "order": 5
         },
         {
          "active_ads": 1541,
          "date": "2019-11-22T00:00:00+00:00",
          "funder": "lab",
          "order": 5
         },
         {
          "active_ads": 1564,
          "date": "2019-11-23T00:00:00+00:00",
          "funder": "lab",
          "order": 5
         },
         {
          "active_ads": 1578,
          "date": "2019-11-24T00:00:00+00:00",
          "funder": "lab",
          "order": 5
         },
         {
          "active_ads": 1606,
          "date": "2019-11-25T00:00:00+00:00",
          "funder": "lab",
          "order": 5
         },
         {
          "active_ads": 1611,
          "date": "2019-11-26T00:00:00+00:00",
          "funder": "lab",
          "order": 5
         },
         {
          "active_ads": 1618,
          "date": "2019-11-27T00:00:00+00:00",
          "funder": "lab",
          "order": 5
         },
         {
          "active_ads": 1763,
          "date": "2019-11-28T00:00:00+00:00",
          "funder": "lab",
          "order": 5
         },
         {
          "active_ads": 1794,
          "date": "2019-11-29T00:00:00+00:00",
          "funder": "lab",
          "order": 5
         },
         {
          "active_ads": 1807,
          "date": "2019-11-30T00:00:00+00:00",
          "funder": "lab",
          "order": 5
         },
         {
          "active_ads": 1783,
          "date": "2019-12-01T00:00:00+00:00",
          "funder": "lab",
          "order": 5
         },
         {
          "active_ads": 1037,
          "date": "2019-10-01T00:00:00+00:00",
          "funder": "lib",
          "order": 6
         },
         {
          "active_ads": 1043,
          "date": "2019-10-02T00:00:00+00:00",
          "funder": "lib",
          "order": 6
         },
         {
          "active_ads": 1043,
          "date": "2019-10-03T00:00:00+00:00",
          "funder": "lib",
          "order": 6
         },
         {
          "active_ads": 1043,
          "date": "2019-10-04T00:00:00+00:00",
          "funder": "lib",
          "order": 6
         },
         {
          "active_ads": 1043,
          "date": "2019-10-05T00:00:00+00:00",
          "funder": "lib",
          "order": 6
         },
         {
          "active_ads": 1043,
          "date": "2019-10-06T00:00:00+00:00",
          "funder": "lib",
          "order": 6
         },
         {
          "active_ads": 1043,
          "date": "2019-10-07T00:00:00+00:00",
          "funder": "lib",
          "order": 6
         },
         {
          "active_ads": 1043,
          "date": "2019-10-08T00:00:00+00:00",
          "funder": "lib",
          "order": 6
         },
         {
          "active_ads": 1043,
          "date": "2019-10-09T00:00:00+00:00",
          "funder": "lib",
          "order": 6
         },
         {
          "active_ads": 1043,
          "date": "2019-10-10T00:00:00+00:00",
          "funder": "lib",
          "order": 6
         },
         {
          "active_ads": 1043,
          "date": "2019-10-11T00:00:00+00:00",
          "funder": "lib",
          "order": 6
         },
         {
          "active_ads": 1043,
          "date": "2019-10-12T00:00:00+00:00",
          "funder": "lib",
          "order": 6
         },
         {
          "active_ads": 1043,
          "date": "2019-10-13T00:00:00+00:00",
          "funder": "lib",
          "order": 6
         },
         {
          "active_ads": 1043,
          "date": "2019-10-14T00:00:00+00:00",
          "funder": "lib",
          "order": 6
         },
         {
          "active_ads": 1044,
          "date": "2019-10-15T00:00:00+00:00",
          "funder": "lib",
          "order": 6
         },
         {
          "active_ads": 1073,
          "date": "2019-10-16T00:00:00+00:00",
          "funder": "lib",
          "order": 6
         },
         {
          "active_ads": 1074,
          "date": "2019-10-17T00:00:00+00:00",
          "funder": "lib",
          "order": 6
         },
         {
          "active_ads": 1074,
          "date": "2019-10-18T00:00:00+00:00",
          "funder": "lib",
          "order": 6
         },
         {
          "active_ads": 1074,
          "date": "2019-10-19T00:00:00+00:00",
          "funder": "lib",
          "order": 6
         },
         {
          "active_ads": 1073,
          "date": "2019-10-20T00:00:00+00:00",
          "funder": "lib",
          "order": 6
         },
         {
          "active_ads": 1073,
          "date": "2019-10-21T00:00:00+00:00",
          "funder": "lib",
          "order": 6
         },
         {
          "active_ads": 1080,
          "date": "2019-10-22T00:00:00+00:00",
          "funder": "lib",
          "order": 6
         },
         {
          "active_ads": 1080,
          "date": "2019-10-23T00:00:00+00:00",
          "funder": "lib",
          "order": 6
         },
         {
          "active_ads": 1081,
          "date": "2019-10-24T00:00:00+00:00",
          "funder": "lib",
          "order": 6
         },
         {
          "active_ads": 1093,
          "date": "2019-10-25T00:00:00+00:00",
          "funder": "lib",
          "order": 6
         },
         {
          "active_ads": 1092,
          "date": "2019-10-26T00:00:00+00:00",
          "funder": "lib",
          "order": 6
         },
         {
          "active_ads": 1092,
          "date": "2019-10-27T00:00:00+00:00",
          "funder": "lib",
          "order": 6
         },
         {
          "active_ads": 1143,
          "date": "2019-10-28T00:00:00+00:00",
          "funder": "lib",
          "order": 6
         },
         {
          "active_ads": 1336,
          "date": "2019-10-29T00:00:00+00:00",
          "funder": "lib",
          "order": 6
         },
         {
          "active_ads": 1423,
          "date": "2019-10-30T00:00:00+00:00",
          "funder": "lib",
          "order": 6
         },
         {
          "active_ads": 1522,
          "date": "2019-10-31T00:00:00+00:00",
          "funder": "lib",
          "order": 6
         },
         {
          "active_ads": 1606,
          "date": "2019-11-01T00:00:00+00:00",
          "funder": "lib",
          "order": 6
         },
         {
          "active_ads": 1636,
          "date": "2019-11-02T00:00:00+00:00",
          "funder": "lib",
          "order": 6
         },
         {
          "active_ads": 1640,
          "date": "2019-11-03T00:00:00+00:00",
          "funder": "lib",
          "order": 6
         },
         {
          "active_ads": 1642,
          "date": "2019-11-04T00:00:00+00:00",
          "funder": "lib",
          "order": 6
         },
         {
          "active_ads": 1654,
          "date": "2019-11-05T00:00:00+00:00",
          "funder": "lib",
          "order": 6
         },
         {
          "active_ads": 1744,
          "date": "2019-11-06T00:00:00+00:00",
          "funder": "lib",
          "order": 6
         },
         {
          "active_ads": 1736,
          "date": "2019-11-07T00:00:00+00:00",
          "funder": "lib",
          "order": 6
         },
         {
          "active_ads": 1722,
          "date": "2019-11-08T00:00:00+00:00",
          "funder": "lib",
          "order": 6
         },
         {
          "active_ads": 2880,
          "date": "2019-11-09T00:00:00+00:00",
          "funder": "lib",
          "order": 6
         },
         {
          "active_ads": 3044,
          "date": "2019-11-10T00:00:00+00:00",
          "funder": "lib",
          "order": 6
         },
         {
          "active_ads": 3047,
          "date": "2019-11-11T00:00:00+00:00",
          "funder": "lib",
          "order": 6
         },
         {
          "active_ads": 3053,
          "date": "2019-11-12T00:00:00+00:00",
          "funder": "lib",
          "order": 6
         },
         {
          "active_ads": 3058,
          "date": "2019-11-13T00:00:00+00:00",
          "funder": "lib",
          "order": 6
         },
         {
          "active_ads": 3186,
          "date": "2019-11-14T00:00:00+00:00",
          "funder": "lib",
          "order": 6
         },
         {
          "active_ads": 3211,
          "date": "2019-11-15T00:00:00+00:00",
          "funder": "lib",
          "order": 6
         },
         {
          "active_ads": 4792,
          "date": "2019-11-16T00:00:00+00:00",
          "funder": "lib",
          "order": 6
         },
         {
          "active_ads": 5628,
          "date": "2019-11-17T00:00:00+00:00",
          "funder": "lib",
          "order": 6
         },
         {
          "active_ads": 5761,
          "date": "2019-11-18T00:00:00+00:00",
          "funder": "lib",
          "order": 6
         },
         {
          "active_ads": 5847,
          "date": "2019-11-19T00:00:00+00:00",
          "funder": "lib",
          "order": 6
         },
         {
          "active_ads": 6513,
          "date": "2019-11-20T00:00:00+00:00",
          "funder": "lib",
          "order": 6
         },
         {
          "active_ads": 6517,
          "date": "2019-11-21T00:00:00+00:00",
          "funder": "lib",
          "order": 6
         },
         {
          "active_ads": 6527,
          "date": "2019-11-22T00:00:00+00:00",
          "funder": "lib",
          "order": 6
         },
         {
          "active_ads": 6530,
          "date": "2019-11-23T00:00:00+00:00",
          "funder": "lib",
          "order": 6
         },
         {
          "active_ads": 6545,
          "date": "2019-11-24T00:00:00+00:00",
          "funder": "lib",
          "order": 6
         },
         {
          "active_ads": 6728,
          "date": "2019-11-25T00:00:00+00:00",
          "funder": "lib",
          "order": 6
         },
         {
          "active_ads": 6737,
          "date": "2019-11-26T00:00:00+00:00",
          "funder": "lib",
          "order": 6
         },
         {
          "active_ads": 7248,
          "date": "2019-11-27T00:00:00+00:00",
          "funder": "lib",
          "order": 6
         },
         {
          "active_ads": 7432,
          "date": "2019-11-28T00:00:00+00:00",
          "funder": "lib",
          "order": 6
         },
         {
          "active_ads": 7726,
          "date": "2019-11-29T00:00:00+00:00",
          "funder": "lib",
          "order": 6
         },
         {
          "active_ads": 7715,
          "date": "2019-11-30T00:00:00+00:00",
          "funder": "lib",
          "order": 6
         },
         {
          "active_ads": 7950,
          "date": "2019-12-01T00:00:00+00:00",
          "funder": "lib",
          "order": 6
         },
         {
          "active_ads": 111,
          "date": "2019-10-01T00:00:00+00:00",
          "funder": "brx",
          "order": 4
         },
         {
          "active_ads": 111,
          "date": "2019-10-02T00:00:00+00:00",
          "funder": "brx",
          "order": 4
         },
         {
          "active_ads": 112,
          "date": "2019-10-03T00:00:00+00:00",
          "funder": "brx",
          "order": 4
         },
         {
          "active_ads": 112,
          "date": "2019-10-04T00:00:00+00:00",
          "funder": "brx",
          "order": 4
         },
         {
          "active_ads": 112,
          "date": "2019-10-05T00:00:00+00:00",
          "funder": "brx",
          "order": 4
         },
         {
          "active_ads": 112,
          "date": "2019-10-06T00:00:00+00:00",
          "funder": "brx",
          "order": 4
         },
         {
          "active_ads": 112,
          "date": "2019-10-07T00:00:00+00:00",
          "funder": "brx",
          "order": 4
         },
         {
          "active_ads": 113,
          "date": "2019-10-08T00:00:00+00:00",
          "funder": "brx",
          "order": 4
         },
         {
          "active_ads": 112,
          "date": "2019-10-09T00:00:00+00:00",
          "funder": "brx",
          "order": 4
         },
         {
          "active_ads": 112,
          "date": "2019-10-10T00:00:00+00:00",
          "funder": "brx",
          "order": 4
         },
         {
          "active_ads": 112,
          "date": "2019-10-11T00:00:00+00:00",
          "funder": "brx",
          "order": 4
         },
         {
          "active_ads": 112,
          "date": "2019-10-12T00:00:00+00:00",
          "funder": "brx",
          "order": 4
         },
         {
          "active_ads": 112,
          "date": "2019-10-13T00:00:00+00:00",
          "funder": "brx",
          "order": 4
         },
         {
          "active_ads": 114,
          "date": "2019-10-14T00:00:00+00:00",
          "funder": "brx",
          "order": 4
         },
         {
          "active_ads": 115,
          "date": "2019-10-15T00:00:00+00:00",
          "funder": "brx",
          "order": 4
         },
         {
          "active_ads": 115,
          "date": "2019-10-16T00:00:00+00:00",
          "funder": "brx",
          "order": 4
         },
         {
          "active_ads": 116,
          "date": "2019-10-17T00:00:00+00:00",
          "funder": "brx",
          "order": 4
         },
         {
          "active_ads": 114,
          "date": "2019-10-18T00:00:00+00:00",
          "funder": "brx",
          "order": 4
         },
         {
          "active_ads": 115,
          "date": "2019-10-19T00:00:00+00:00",
          "funder": "brx",
          "order": 4
         },
         {
          "active_ads": 112,
          "date": "2019-10-20T00:00:00+00:00",
          "funder": "brx",
          "order": 4
         },
         {
          "active_ads": 112,
          "date": "2019-10-21T00:00:00+00:00",
          "funder": "brx",
          "order": 4
         },
         {
          "active_ads": 112,
          "date": "2019-10-22T00:00:00+00:00",
          "funder": "brx",
          "order": 4
         },
         {
          "active_ads": 111,
          "date": "2019-10-23T00:00:00+00:00",
          "funder": "brx",
          "order": 4
         },
         {
          "active_ads": 111,
          "date": "2019-10-24T00:00:00+00:00",
          "funder": "brx",
          "order": 4
         },
         {
          "active_ads": 110,
          "date": "2019-10-25T00:00:00+00:00",
          "funder": "brx",
          "order": 4
         },
         {
          "active_ads": 109,
          "date": "2019-10-26T00:00:00+00:00",
          "funder": "brx",
          "order": 4
         },
         {
          "active_ads": 110,
          "date": "2019-10-27T00:00:00+00:00",
          "funder": "brx",
          "order": 4
         },
         {
          "active_ads": 111,
          "date": "2019-10-28T00:00:00+00:00",
          "funder": "brx",
          "order": 4
         },
         {
          "active_ads": 108,
          "date": "2019-10-29T00:00:00+00:00",
          "funder": "brx",
          "order": 4
         },
         {
          "active_ads": 108,
          "date": "2019-10-30T00:00:00+00:00",
          "funder": "brx",
          "order": 4
         },
         {
          "active_ads": 108,
          "date": "2019-10-31T00:00:00+00:00",
          "funder": "brx",
          "order": 4
         },
         {
          "active_ads": 108,
          "date": "2019-11-01T00:00:00+00:00",
          "funder": "brx",
          "order": 4
         },
         {
          "active_ads": 108,
          "date": "2019-11-02T00:00:00+00:00",
          "funder": "brx",
          "order": 4
         },
         {
          "active_ads": 108,
          "date": "2019-11-03T00:00:00+00:00",
          "funder": "brx",
          "order": 4
         },
         {
          "active_ads": 108,
          "date": "2019-11-04T00:00:00+00:00",
          "funder": "brx",
          "order": 4
         },
         {
          "active_ads": 133,
          "date": "2019-11-05T00:00:00+00:00",
          "funder": "brx",
          "order": 4
         },
         {
          "active_ads": 162,
          "date": "2019-11-06T00:00:00+00:00",
          "funder": "brx",
          "order": 4
         },
         {
          "active_ads": 166,
          "date": "2019-11-07T00:00:00+00:00",
          "funder": "brx",
          "order": 4
         },
         {
          "active_ads": 167,
          "date": "2019-11-08T00:00:00+00:00",
          "funder": "brx",
          "order": 4
         },
         {
          "active_ads": 167,
          "date": "2019-11-09T00:00:00+00:00",
          "funder": "brx",
          "order": 4
         },
         {
          "active_ads": 166,
          "date": "2019-11-10T00:00:00+00:00",
          "funder": "brx",
          "order": 4
         },
         {
          "active_ads": 166,
          "date": "2019-11-11T00:00:00+00:00",
          "funder": "brx",
          "order": 4
         },
         {
          "active_ads": 164,
          "date": "2019-11-12T00:00:00+00:00",
          "funder": "brx",
          "order": 4
         },
         {
          "active_ads": 237,
          "date": "2019-11-13T00:00:00+00:00",
          "funder": "brx",
          "order": 4
         },
         {
          "active_ads": 404,
          "date": "2019-11-14T00:00:00+00:00",
          "funder": "brx",
          "order": 4
         },
         {
          "active_ads": 545,
          "date": "2019-11-15T00:00:00+00:00",
          "funder": "brx",
          "order": 4
         },
         {
          "active_ads": 661,
          "date": "2019-11-16T00:00:00+00:00",
          "funder": "brx",
          "order": 4
         },
         {
          "active_ads": 661,
          "date": "2019-11-17T00:00:00+00:00",
          "funder": "brx",
          "order": 4
         },
         {
          "active_ads": 1045,
          "date": "2019-11-18T00:00:00+00:00",
          "funder": "brx",
          "order": 4
         },
         {
          "active_ads": 1388,
          "date": "2019-11-19T00:00:00+00:00",
          "funder": "brx",
          "order": 4
         },
         {
          "active_ads": 1502,
          "date": "2019-11-20T00:00:00+00:00",
          "funder": "brx",
          "order": 4
         },
         {
          "active_ads": 1522,
          "date": "2019-11-21T00:00:00+00:00",
          "funder": "brx",
          "order": 4
         },
         {
          "active_ads": 1527,
          "date": "2019-11-22T00:00:00+00:00",
          "funder": "brx",
          "order": 4
         },
         {
          "active_ads": 1534,
          "date": "2019-11-23T00:00:00+00:00",
          "funder": "brx",
          "order": 4
         },
         {
          "active_ads": 1552,
          "date": "2019-11-24T00:00:00+00:00",
          "funder": "brx",
          "order": 4
         },
         {
          "active_ads": 1549,
          "date": "2019-11-25T00:00:00+00:00",
          "funder": "brx",
          "order": 4
         },
         {
          "active_ads": 1550,
          "date": "2019-11-26T00:00:00+00:00",
          "funder": "brx",
          "order": 4
         },
         {
          "active_ads": 1549,
          "date": "2019-11-27T00:00:00+00:00",
          "funder": "brx",
          "order": 4
         },
         {
          "active_ads": 1555,
          "date": "2019-11-28T00:00:00+00:00",
          "funder": "brx",
          "order": 4
         },
         {
          "active_ads": 1567,
          "date": "2019-11-29T00:00:00+00:00",
          "funder": "brx",
          "order": 4
         },
         {
          "active_ads": 1595,
          "date": "2019-11-30T00:00:00+00:00",
          "funder": "brx",
          "order": 4
         },
         {
          "active_ads": 1608,
          "date": "2019-12-01T00:00:00+00:00",
          "funder": "brx",
          "order": 4
         },
         {
          "active_ads": 0,
          "date": "2019-10-01T00:00:00+00:00",
          "funder": "gre",
          "order": 3
         },
         {
          "active_ads": 0,
          "date": "2019-10-02T00:00:00+00:00",
          "funder": "gre",
          "order": 3
         },
         {
          "active_ads": 0,
          "date": "2019-10-03T00:00:00+00:00",
          "funder": "gre",
          "order": 3
         },
         {
          "active_ads": 0,
          "date": "2019-10-04T00:00:00+00:00",
          "funder": "gre",
          "order": 3
         },
         {
          "active_ads": 0,
          "date": "2019-10-05T00:00:00+00:00",
          "funder": "gre",
          "order": 3
         },
         {
          "active_ads": 0,
          "date": "2019-10-06T00:00:00+00:00",
          "funder": "gre",
          "order": 3
         },
         {
          "active_ads": 0,
          "date": "2019-10-07T00:00:00+00:00",
          "funder": "gre",
          "order": 3
         },
         {
          "active_ads": 0,
          "date": "2019-10-08T00:00:00+00:00",
          "funder": "gre",
          "order": 3
         },
         {
          "active_ads": 0,
          "date": "2019-10-09T00:00:00+00:00",
          "funder": "gre",
          "order": 3
         },
         {
          "active_ads": 0,
          "date": "2019-10-10T00:00:00+00:00",
          "funder": "gre",
          "order": 3
         },
         {
          "active_ads": 0,
          "date": "2019-10-11T00:00:00+00:00",
          "funder": "gre",
          "order": 3
         },
         {
          "active_ads": 0,
          "date": "2019-10-12T00:00:00+00:00",
          "funder": "gre",
          "order": 3
         },
         {
          "active_ads": 0,
          "date": "2019-10-13T00:00:00+00:00",
          "funder": "gre",
          "order": 3
         },
         {
          "active_ads": 0,
          "date": "2019-10-14T00:00:00+00:00",
          "funder": "gre",
          "order": 3
         },
         {
          "active_ads": 0,
          "date": "2019-10-15T00:00:00+00:00",
          "funder": "gre",
          "order": 3
         },
         {
          "active_ads": 0,
          "date": "2019-10-16T00:00:00+00:00",
          "funder": "gre",
          "order": 3
         },
         {
          "active_ads": 0,
          "date": "2019-10-17T00:00:00+00:00",
          "funder": "gre",
          "order": 3
         },
         {
          "active_ads": 0,
          "date": "2019-10-18T00:00:00+00:00",
          "funder": "gre",
          "order": 3
         },
         {
          "active_ads": 0,
          "date": "2019-10-19T00:00:00+00:00",
          "funder": "gre",
          "order": 3
         },
         {
          "active_ads": 0,
          "date": "2019-10-20T00:00:00+00:00",
          "funder": "gre",
          "order": 3
         },
         {
          "active_ads": 0,
          "date": "2019-10-21T00:00:00+00:00",
          "funder": "gre",
          "order": 3
         },
         {
          "active_ads": 0,
          "date": "2019-10-22T00:00:00+00:00",
          "funder": "gre",
          "order": 3
         },
         {
          "active_ads": 0,
          "date": "2019-10-23T00:00:00+00:00",
          "funder": "gre",
          "order": 3
         },
         {
          "active_ads": 0,
          "date": "2019-10-24T00:00:00+00:00",
          "funder": "gre",
          "order": 3
         },
         {
          "active_ads": 0,
          "date": "2019-10-25T00:00:00+00:00",
          "funder": "gre",
          "order": 3
         },
         {
          "active_ads": 0,
          "date": "2019-10-26T00:00:00+00:00",
          "funder": "gre",
          "order": 3
         },
         {
          "active_ads": 0,
          "date": "2019-10-27T00:00:00+00:00",
          "funder": "gre",
          "order": 3
         },
         {
          "active_ads": 0,
          "date": "2019-10-28T00:00:00+00:00",
          "funder": "gre",
          "order": 3
         },
         {
          "active_ads": 0,
          "date": "2019-10-29T00:00:00+00:00",
          "funder": "gre",
          "order": 3
         },
         {
          "active_ads": 0,
          "date": "2019-10-30T00:00:00+00:00",
          "funder": "gre",
          "order": 3
         },
         {
          "active_ads": 0,
          "date": "2019-10-31T00:00:00+00:00",
          "funder": "gre",
          "order": 3
         },
         {
          "active_ads": 0,
          "date": "2019-11-01T00:00:00+00:00",
          "funder": "gre",
          "order": 3
         },
         {
          "active_ads": 0,
          "date": "2019-11-02T00:00:00+00:00",
          "funder": "gre",
          "order": 3
         },
         {
          "active_ads": 0,
          "date": "2019-11-03T00:00:00+00:00",
          "funder": "gre",
          "order": 3
         },
         {
          "active_ads": 0,
          "date": "2019-11-04T00:00:00+00:00",
          "funder": "gre",
          "order": 3
         },
         {
          "active_ads": 0,
          "date": "2019-11-05T00:00:00+00:00",
          "funder": "gre",
          "order": 3
         },
         {
          "active_ads": 0,
          "date": "2019-11-06T00:00:00+00:00",
          "funder": "gre",
          "order": 3
         },
         {
          "active_ads": 0,
          "date": "2019-11-07T00:00:00+00:00",
          "funder": "gre",
          "order": 3
         },
         {
          "active_ads": 0,
          "date": "2019-11-08T00:00:00+00:00",
          "funder": "gre",
          "order": 3
         },
         {
          "active_ads": 0,
          "date": "2019-11-09T00:00:00+00:00",
          "funder": "gre",
          "order": 3
         },
         {
          "active_ads": 0,
          "date": "2019-11-10T00:00:00+00:00",
          "funder": "gre",
          "order": 3
         },
         {
          "active_ads": 0,
          "date": "2019-11-11T00:00:00+00:00",
          "funder": "gre",
          "order": 3
         },
         {
          "active_ads": 0,
          "date": "2019-11-12T00:00:00+00:00",
          "funder": "gre",
          "order": 3
         },
         {
          "active_ads": 0,
          "date": "2019-11-13T00:00:00+00:00",
          "funder": "gre",
          "order": 3
         },
         {
          "active_ads": 0,
          "date": "2019-11-14T00:00:00+00:00",
          "funder": "gre",
          "order": 3
         },
         {
          "active_ads": 0,
          "date": "2019-11-15T00:00:00+00:00",
          "funder": "gre",
          "order": 3
         },
         {
          "active_ads": 0,
          "date": "2019-11-16T00:00:00+00:00",
          "funder": "gre",
          "order": 3
         },
         {
          "active_ads": 0,
          "date": "2019-11-17T00:00:00+00:00",
          "funder": "gre",
          "order": 3
         },
         {
          "active_ads": 42,
          "date": "2019-11-18T00:00:00+00:00",
          "funder": "gre",
          "order": 3
         },
         {
          "active_ads": 42,
          "date": "2019-11-19T00:00:00+00:00",
          "funder": "gre",
          "order": 3
         },
         {
          "active_ads": 42,
          "date": "2019-11-20T00:00:00+00:00",
          "funder": "gre",
          "order": 3
         },
         {
          "active_ads": 42,
          "date": "2019-11-21T00:00:00+00:00",
          "funder": "gre",
          "order": 3
         },
         {
          "active_ads": 42,
          "date": "2019-11-22T00:00:00+00:00",
          "funder": "gre",
          "order": 3
         },
         {
          "active_ads": 42,
          "date": "2019-11-23T00:00:00+00:00",
          "funder": "gre",
          "order": 3
         },
         {
          "active_ads": 42,
          "date": "2019-11-24T00:00:00+00:00",
          "funder": "gre",
          "order": 3
         },
         {
          "active_ads": 160,
          "date": "2019-11-25T00:00:00+00:00",
          "funder": "gre",
          "order": 3
         },
         {
          "active_ads": 191,
          "date": "2019-11-26T00:00:00+00:00",
          "funder": "gre",
          "order": 3
         },
         {
          "active_ads": 312,
          "date": "2019-11-27T00:00:00+00:00",
          "funder": "gre",
          "order": 3
         },
         {
          "active_ads": 312,
          "date": "2019-11-28T00:00:00+00:00",
          "funder": "gre",
          "order": 3
         },
         {
          "active_ads": 292,
          "date": "2019-11-29T00:00:00+00:00",
          "funder": "gre",
          "order": 3
         },
         {
          "active_ads": 292,
          "date": "2019-11-30T00:00:00+00:00",
          "funder": "gre",
          "order": 3
         },
         {
          "active_ads": 292,
          "date": "2019-12-01T00:00:00+00:00",
          "funder": "gre",
          "order": 3
         },
         {
          "active_ads": 7596,
          "date": "2019-10-01T00:00:00+00:00",
          "funder": "registered",
          "order": 2
         },
         {
          "active_ads": 7596,
          "date": "2019-10-02T00:00:00+00:00",
          "funder": "registered",
          "order": 2
         },
         {
          "active_ads": 7600,
          "date": "2019-10-03T00:00:00+00:00",
          "funder": "registered",
          "order": 2
         },
         {
          "active_ads": 7642,
          "date": "2019-10-04T00:00:00+00:00",
          "funder": "registered",
          "order": 2
         },
         {
          "active_ads": 7640,
          "date": "2019-10-05T00:00:00+00:00",
          "funder": "registered",
          "order": 2
         },
         {
          "active_ads": 7645,
          "date": "2019-10-06T00:00:00+00:00",
          "funder": "registered",
          "order": 2
         },
         {
          "active_ads": 7690,
          "date": "2019-10-07T00:00:00+00:00",
          "funder": "registered",
          "order": 2
         },
         {
          "active_ads": 7704,
          "date": "2019-10-08T00:00:00+00:00",
          "funder": "registered",
          "order": 2
         },
         {
          "active_ads": 7711,
          "date": "2019-10-09T00:00:00+00:00",
          "funder": "registered",
          "order": 2
         },
         {
          "active_ads": 7917,
          "date": "2019-10-10T00:00:00+00:00",
          "funder": "registered",
          "order": 2
         },
         {
          "active_ads": 7942,
          "date": "2019-10-11T00:00:00+00:00",
          "funder": "registered",
          "order": 2
         },
         {
          "active_ads": 7994,
          "date": "2019-10-12T00:00:00+00:00",
          "funder": "registered",
          "order": 2
         },
         {
          "active_ads": 7995,
          "date": "2019-10-13T00:00:00+00:00",
          "funder": "registered",
          "order": 2
         },
         {
          "active_ads": 8368,
          "date": "2019-10-14T00:00:00+00:00",
          "funder": "registered",
          "order": 2
         },
         {
          "active_ads": 8450,
          "date": "2019-10-15T00:00:00+00:00",
          "funder": "registered",
          "order": 2
         },
         {
          "active_ads": 8204,
          "date": "2019-10-16T00:00:00+00:00",
          "funder": "registered",
          "order": 2
         },
         {
          "active_ads": 8225,
          "date": "2019-10-17T00:00:00+00:00",
          "funder": "registered",
          "order": 2
         },
         {
          "active_ads": 8298,
          "date": "2019-10-18T00:00:00+00:00",
          "funder": "registered",
          "order": 2
         },
         {
          "active_ads": 8281,
          "date": "2019-10-19T00:00:00+00:00",
          "funder": "registered",
          "order": 2
         },
         {
          "active_ads": 8276,
          "date": "2019-10-20T00:00:00+00:00",
          "funder": "registered",
          "order": 2
         },
         {
          "active_ads": 8289,
          "date": "2019-10-21T00:00:00+00:00",
          "funder": "registered",
          "order": 2
         },
         {
          "active_ads": 8310,
          "date": "2019-10-22T00:00:00+00:00",
          "funder": "registered",
          "order": 2
         },
         {
          "active_ads": 8397,
          "date": "2019-10-23T00:00:00+00:00",
          "funder": "registered",
          "order": 2
         },
         {
          "active_ads": 8333,
          "date": "2019-10-24T00:00:00+00:00",
          "funder": "registered",
          "order": 2
         },
         {
          "active_ads": 8357,
          "date": "2019-10-25T00:00:00+00:00",
          "funder": "registered",
          "order": 2
         },
         {
          "active_ads": 8306,
          "date": "2019-10-26T00:00:00+00:00",
          "funder": "registered",
          "order": 2
         },
         {
          "active_ads": 8300,
          "date": "2019-10-27T00:00:00+00:00",
          "funder": "registered",
          "order": 2
         },
         {
          "active_ads": 8300,
          "date": "2019-10-28T00:00:00+00:00",
          "funder": "registered",
          "order": 2
         },
         {
          "active_ads": 8268,
          "date": "2019-10-29T00:00:00+00:00",
          "funder": "registered",
          "order": 2
         },
         {
          "active_ads": 8291,
          "date": "2019-10-30T00:00:00+00:00",
          "funder": "registered",
          "order": 2
         },
         {
          "active_ads": 8302,
          "date": "2019-10-31T00:00:00+00:00",
          "funder": "registered",
          "order": 2
         },
         {
          "active_ads": 8300,
          "date": "2019-11-01T00:00:00+00:00",
          "funder": "registered",
          "order": 2
         },
         {
          "active_ads": 8325,
          "date": "2019-11-02T00:00:00+00:00",
          "funder": "registered",
          "order": 2
         },
         {
          "active_ads": 8324,
          "date": "2019-11-03T00:00:00+00:00",
          "funder": "registered",
          "order": 2
         },
         {
          "active_ads": 8346,
          "date": "2019-11-04T00:00:00+00:00",
          "funder": "registered",
          "order": 2
         },
         {
          "active_ads": 8503,
          "date": "2019-11-05T00:00:00+00:00",
          "funder": "registered",
          "order": 2
         },
         {
          "active_ads": 8492,
          "date": "2019-11-06T00:00:00+00:00",
          "funder": "registered",
          "order": 2
         },
         {
          "active_ads": 8825,
          "date": "2019-11-07T00:00:00+00:00",
          "funder": "registered",
          "order": 2
         },
         {
          "active_ads": 8865,
          "date": "2019-11-08T00:00:00+00:00",
          "funder": "registered",
          "order": 2
         },
         {
          "active_ads": 8834,
          "date": "2019-11-09T00:00:00+00:00",
          "funder": "registered",
          "order": 2
         },
         {
          "active_ads": 8866,
          "date": "2019-11-10T00:00:00+00:00",
          "funder": "registered",
          "order": 2
         },
         {
          "active_ads": 8871,
          "date": "2019-11-11T00:00:00+00:00",
          "funder": "registered",
          "order": 2
         },
         {
          "active_ads": 9030,
          "date": "2019-11-12T00:00:00+00:00",
          "funder": "registered",
          "order": 2
         },
         {
          "active_ads": 9338,
          "date": "2019-11-13T00:00:00+00:00",
          "funder": "registered",
          "order": 2
         },
         {
          "active_ads": 9498,
          "date": "2019-11-14T00:00:00+00:00",
          "funder": "registered",
          "order": 2
         },
         {
          "active_ads": 9652,
          "date": "2019-11-15T00:00:00+00:00",
          "funder": "registered",
          "order": 2
         },
         {
          "active_ads": 9640,
          "date": "2019-11-16T00:00:00+00:00",
          "funder": "registered",
          "order": 2
         },
         {
          "active_ads": 9659,
          "date": "2019-11-17T00:00:00+00:00",
          "funder": "registered",
          "order": 2
         },
         {
          "active_ads": 9706,
          "date": "2019-11-18T00:00:00+00:00",
          "funder": "registered",
          "order": 2
         },
         {
          "active_ads": 10365,
          "date": "2019-11-19T00:00:00+00:00",
          "funder": "registered",
          "order": 2
         },
         {
          "active_ads": 10387,
          "date": "2019-11-20T00:00:00+00:00",
          "funder": "registered",
          "order": 2
         },
         {
          "active_ads": 10750,
          "date": "2019-11-21T00:00:00+00:00",
          "funder": "registered",
          "order": 2
         },
         {
          "active_ads": 11429,
          "date": "2019-11-22T00:00:00+00:00",
          "funder": "registered",
          "order": 2
         },
         {
          "active_ads": 11702,
          "date": "2019-11-23T00:00:00+00:00",
          "funder": "registered",
          "order": 2
         },
         {
          "active_ads": 11697,
          "date": "2019-11-24T00:00:00+00:00",
          "funder": "registered",
          "order": 2
         },
         {
          "active_ads": 12750,
          "date": "2019-11-25T00:00:00+00:00",
          "funder": "registered",
          "order": 2
         },
         {
          "active_ads": 12998,
          "date": "2019-11-26T00:00:00+00:00",
          "funder": "registered",
          "order": 2
         },
         {
          "active_ads": 12115,
          "date": "2019-11-27T00:00:00+00:00",
          "funder": "registered",
          "order": 2
         },
         {
          "active_ads": 12159,
          "date": "2019-11-28T00:00:00+00:00",
          "funder": "registered",
          "order": 2
         },
         {
          "active_ads": 12438,
          "date": "2019-11-29T00:00:00+00:00",
          "funder": "registered",
          "order": 2
         },
         {
          "active_ads": 12372,
          "date": "2019-11-30T00:00:00+00:00",
          "funder": "registered",
          "order": 2
         },
         {
          "active_ads": 12341,
          "date": "2019-12-01T00:00:00+00:00",
          "funder": "registered",
          "order": 2
         },
         {
          "active_ads": 3474,
          "date": "2019-10-01T00:00:00+00:00",
          "funder": "unclassified",
          "order": 1
         },
         {
          "active_ads": 3489,
          "date": "2019-10-02T00:00:00+00:00",
          "funder": "unclassified",
          "order": 1
         },
         {
          "active_ads": 3491,
          "date": "2019-10-03T00:00:00+00:00",
          "funder": "unclassified",
          "order": 1
         },
         {
          "active_ads": 3553,
          "date": "2019-10-04T00:00:00+00:00",
          "funder": "unclassified",
          "order": 1
         },
         {
          "active_ads": 3543,
          "date": "2019-10-05T00:00:00+00:00",
          "funder": "unclassified",
          "order": 1
         },
         {
          "active_ads": 3517,
          "date": "2019-10-06T00:00:00+00:00",
          "funder": "unclassified",
          "order": 1
         },
         {
          "active_ads": 3554,
          "date": "2019-10-07T00:00:00+00:00",
          "funder": "unclassified",
          "order": 1
         },
         {
          "active_ads": 3617,
          "date": "2019-10-08T00:00:00+00:00",
          "funder": "unclassified",
          "order": 1
         },
         {
          "active_ads": 3663,
          "date": "2019-10-09T00:00:00+00:00",
          "funder": "unclassified",
          "order": 1
         },
         {
          "active_ads": 3765,
          "date": "2019-10-10T00:00:00+00:00",
          "funder": "unclassified",
          "order": 1
         },
         {
          "active_ads": 3735,
          "date": "2019-10-11T00:00:00+00:00",
          "funder": "unclassified",
          "order": 1
         },
         {
          "active_ads": 3722,
          "date": "2019-10-12T00:00:00+00:00",
          "funder": "unclassified",
          "order": 1
         },
         {
          "active_ads": 3706,
          "date": "2019-10-13T00:00:00+00:00",
          "funder": "unclassified",
          "order": 1
         },
         {
          "active_ads": 3671,
          "date": "2019-10-14T00:00:00+00:00",
          "funder": "unclassified",
          "order": 1
         },
         {
          "active_ads": 3730,
          "date": "2019-10-15T00:00:00+00:00",
          "funder": "unclassified",
          "order": 1
         },
         {
          "active_ads": 3707,
          "date": "2019-10-16T00:00:00+00:00",
          "funder": "unclassified",
          "order": 1
         },
         {
          "active_ads": 3736,
          "date": "2019-10-17T00:00:00+00:00",
          "funder": "unclassified",
          "order": 1
         },
         {
          "active_ads": 3716,
          "date": "2019-10-18T00:00:00+00:00",
          "funder": "unclassified",
          "order": 1
         },
         {
          "active_ads": 3685,
          "date": "2019-10-19T00:00:00+00:00",
          "funder": "unclassified",
          "order": 1
         },
         {
          "active_ads": 3605,
          "date": "2019-10-20T00:00:00+00:00",
          "funder": "unclassified",
          "order": 1
         },
         {
          "active_ads": 3629,
          "date": "2019-10-21T00:00:00+00:00",
          "funder": "unclassified",
          "order": 1
         },
         {
          "active_ads": 3633,
          "date": "2019-10-22T00:00:00+00:00",
          "funder": "unclassified",
          "order": 1
         },
         {
          "active_ads": 3713,
          "date": "2019-10-23T00:00:00+00:00",
          "funder": "unclassified",
          "order": 1
         },
         {
          "active_ads": 3797,
          "date": "2019-10-24T00:00:00+00:00",
          "funder": "unclassified",
          "order": 1
         },
         {
          "active_ads": 3863,
          "date": "2019-10-25T00:00:00+00:00",
          "funder": "unclassified",
          "order": 1
         },
         {
          "active_ads": 3843,
          "date": "2019-10-26T00:00:00+00:00",
          "funder": "unclassified",
          "order": 1
         },
         {
          "active_ads": 3854,
          "date": "2019-10-27T00:00:00+00:00",
          "funder": "unclassified",
          "order": 1
         },
         {
          "active_ads": 3932,
          "date": "2019-10-28T00:00:00+00:00",
          "funder": "unclassified",
          "order": 1
         },
         {
          "active_ads": 3966,
          "date": "2019-10-29T00:00:00+00:00",
          "funder": "unclassified",
          "order": 1
         },
         {
          "active_ads": 4087,
          "date": "2019-10-30T00:00:00+00:00",
          "funder": "unclassified",
          "order": 1
         },
         {
          "active_ads": 4244,
          "date": "2019-10-31T00:00:00+00:00",
          "funder": "unclassified",
          "order": 1
         },
         {
          "active_ads": 4164,
          "date": "2019-11-01T00:00:00+00:00",
          "funder": "unclassified",
          "order": 1
         },
         {
          "active_ads": 4242,
          "date": "2019-11-02T00:00:00+00:00",
          "funder": "unclassified",
          "order": 1
         },
         {
          "active_ads": 4270,
          "date": "2019-11-03T00:00:00+00:00",
          "funder": "unclassified",
          "order": 1
         },
         {
          "active_ads": 4419,
          "date": "2019-11-04T00:00:00+00:00",
          "funder": "unclassified",
          "order": 1
         },
         {
          "active_ads": 4605,
          "date": "2019-11-05T00:00:00+00:00",
          "funder": "unclassified",
          "order": 1
         },
         {
          "active_ads": 4808,
          "date": "2019-11-06T00:00:00+00:00",
          "funder": "unclassified",
          "order": 1
         },
         {
          "active_ads": 4920,
          "date": "2019-11-07T00:00:00+00:00",
          "funder": "unclassified",
          "order": 1
         },
         {
          "active_ads": 5009,
          "date": "2019-11-08T00:00:00+00:00",
          "funder": "unclassified",
          "order": 1
         },
         {
          "active_ads": 4908,
          "date": "2019-11-09T00:00:00+00:00",
          "funder": "unclassified",
          "order": 1
         },
         {
          "active_ads": 4922,
          "date": "2019-11-10T00:00:00+00:00",
          "funder": "unclassified",
          "order": 1
         },
         {
          "active_ads": 4985,
          "date": "2019-11-11T00:00:00+00:00",
          "funder": "unclassified",
          "order": 1
         },
         {
          "active_ads": 5133,
          "date": "2019-11-12T00:00:00+00:00",
          "funder": "unclassified",
          "order": 1
         },
         {
          "active_ads": 5586,
          "date": "2019-11-13T00:00:00+00:00",
          "funder": "unclassified",
          "order": 1
         },
         {
          "active_ads": 5837,
          "date": "2019-11-14T00:00:00+00:00",
          "funder": "unclassified",
          "order": 1
         },
         {
          "active_ads": 6252,
          "date": "2019-11-15T00:00:00+00:00",
          "funder": "unclassified",
          "order": 1
         },
         {
          "active_ads": 6240,
          "date": "2019-11-16T00:00:00+00:00",
          "funder": "unclassified",
          "order": 1
         },
         {
          "active_ads": 6302,
          "date": "2019-11-17T00:00:00+00:00",
          "funder": "unclassified",
          "order": 1
         },
         {
          "active_ads": 6408,
          "date": "2019-11-18T00:00:00+00:00",
          "funder": "unclassified",
          "order": 1
         },
         {
          "active_ads": 6544,
          "date": "2019-11-19T00:00:00+00:00",
          "funder": "unclassified",
          "order": 1
         },
         {
          "active_ads": 6949,
          "date": "2019-11-20T00:00:00+00:00",
          "funder": "unclassified",
          "order": 1
         },
         {
          "active_ads": 7299,
          "date": "2019-11-21T00:00:00+00:00",
          "funder": "unclassified",
          "order": 1
         },
         {
          "active_ads": 8149,
          "date": "2019-11-22T00:00:00+00:00",
          "funder": "unclassified",
          "order": 1
         },
         {
          "active_ads": 8364,
          "date": "2019-11-23T00:00:00+00:00",
          "funder": "unclassified",
          "order": 1
         },
         {
          "active_ads": 8194,
          "date": "2019-11-24T00:00:00+00:00",
          "funder": "unclassified",
          "order": 1
         },
         {
          "active_ads": 8593,
          "date": "2019-11-25T00:00:00+00:00",
          "funder": "unclassified",
          "order": 1
         },
         {
          "active_ads": 8942,
          "date": "2019-11-26T00:00:00+00:00",
          "funder": "unclassified",
          "order": 1
         },
         {
          "active_ads": 8790,
          "date": "2019-11-27T00:00:00+00:00",
          "funder": "unclassified",
          "order": 1
         },
         {
          "active_ads": 8880,
          "date": "2019-11-28T00:00:00+00:00",
          "funder": "unclassified",
          "order": 1
         },
         {
          "active_ads": 9102,
          "date": "2019-11-29T00:00:00+00:00",
          "funder": "unclassified",
          "order": 1
         },
         {
          "active_ads": 8984,
          "date": "2019-11-30T00:00:00+00:00",
          "funder": "unclassified",
          "order": 1
         },
         {
          "active_ads": 8640,
          "date": "2019-12-01T00:00:00+00:00",
          "funder": "unclassified",
          "order": 1
         },
         {
          "active_ads": 14522,
          "date": "2019-10-01T00:00:00+00:00",
          "funder": "no_funder",
          "order": 0
         },
         {
          "active_ads": 14563,
          "date": "2019-10-02T00:00:00+00:00",
          "funder": "no_funder",
          "order": 0
         },
         {
          "active_ads": 14658,
          "date": "2019-10-03T00:00:00+00:00",
          "funder": "no_funder",
          "order": 0
         },
         {
          "active_ads": 14866,
          "date": "2019-10-04T00:00:00+00:00",
          "funder": "no_funder",
          "order": 0
         },
         {
          "active_ads": 14859,
          "date": "2019-10-05T00:00:00+00:00",
          "funder": "no_funder",
          "order": 0
         },
         {
          "active_ads": 14888,
          "date": "2019-10-06T00:00:00+00:00",
          "funder": "no_funder",
          "order": 0
         },
         {
          "active_ads": 14986,
          "date": "2019-10-07T00:00:00+00:00",
          "funder": "no_funder",
          "order": 0
         },
         {
          "active_ads": 15164,
          "date": "2019-10-08T00:00:00+00:00",
          "funder": "no_funder",
          "order": 0
         },
         {
          "active_ads": 15220,
          "date": "2019-10-09T00:00:00+00:00",
          "funder": "no_funder",
          "order": 0
         },
         {
          "active_ads": 15319,
          "date": "2019-10-10T00:00:00+00:00",
          "funder": "no_funder",
          "order": 0
         },
         {
          "active_ads": 15396,
          "date": "2019-10-11T00:00:00+00:00",
          "funder": "no_funder",
          "order": 0
         },
         {
          "active_ads": 15407,
          "date": "2019-10-12T00:00:00+00:00",
          "funder": "no_funder",
          "order": 0
         },
         {
          "active_ads": 15411,
          "date": "2019-10-13T00:00:00+00:00",
          "funder": "no_funder",
          "order": 0
         },
         {
          "active_ads": 15662,
          "date": "2019-10-14T00:00:00+00:00",
          "funder": "no_funder",
          "order": 0
         },
         {
          "active_ads": 16034,
          "date": "2019-10-15T00:00:00+00:00",
          "funder": "no_funder",
          "order": 0
         },
         {
          "active_ads": 16157,
          "date": "2019-10-16T00:00:00+00:00",
          "funder": "no_funder",
          "order": 0
         },
         {
          "active_ads": 16252,
          "date": "2019-10-17T00:00:00+00:00",
          "funder": "no_funder",
          "order": 0
         },
         {
          "active_ads": 16382,
          "date": "2019-10-18T00:00:00+00:00",
          "funder": "no_funder",
          "order": 0
         },
         {
          "active_ads": 16375,
          "date": "2019-10-19T00:00:00+00:00",
          "funder": "no_funder",
          "order": 0
         },
         {
          "active_ads": 16396,
          "date": "2019-10-20T00:00:00+00:00",
          "funder": "no_funder",
          "order": 0
         },
         {
          "active_ads": 16578,
          "date": "2019-10-21T00:00:00+00:00",
          "funder": "no_funder",
          "order": 0
         },
         {
          "active_ads": 16763,
          "date": "2019-10-22T00:00:00+00:00",
          "funder": "no_funder",
          "order": 0
         },
         {
          "active_ads": 17260,
          "date": "2019-10-23T00:00:00+00:00",
          "funder": "no_funder",
          "order": 0
         },
         {
          "active_ads": 17332,
          "date": "2019-10-24T00:00:00+00:00",
          "funder": "no_funder",
          "order": 0
         },
         {
          "active_ads": 17464,
          "date": "2019-10-25T00:00:00+00:00",
          "funder": "no_funder",
          "order": 0
         },
         {
          "active_ads": 17483,
          "date": "2019-10-26T00:00:00+00:00",
          "funder": "no_funder",
          "order": 0
         },
         {
          "active_ads": 17494,
          "date": "2019-10-27T00:00:00+00:00",
          "funder": "no_funder",
          "order": 0
         },
         {
          "active_ads": 17596,
          "date": "2019-10-28T00:00:00+00:00",
          "funder": "no_funder",
          "order": 0
         },
         {
          "active_ads": 17642,
          "date": "2019-10-29T00:00:00+00:00",
          "funder": "no_funder",
          "order": 0
         },
         {
          "active_ads": 17727,
          "date": "2019-10-30T00:00:00+00:00",
          "funder": "no_funder",
          "order": 0
         },
         {
          "active_ads": 17720,
          "date": "2019-10-31T00:00:00+00:00",
          "funder": "no_funder",
          "order": 0
         },
         {
          "active_ads": 17503,
          "date": "2019-11-01T00:00:00+00:00",
          "funder": "no_funder",
          "order": 0
         },
         {
          "active_ads": 17441,
          "date": "2019-11-02T00:00:00+00:00",
          "funder": "no_funder",
          "order": 0
         },
         {
          "active_ads": 17443,
          "date": "2019-11-03T00:00:00+00:00",
          "funder": "no_funder",
          "order": 0
         },
         {
          "active_ads": 17467,
          "date": "2019-11-04T00:00:00+00:00",
          "funder": "no_funder",
          "order": 0
         },
         {
          "active_ads": 17505,
          "date": "2019-11-05T00:00:00+00:00",
          "funder": "no_funder",
          "order": 0
         },
         {
          "active_ads": 17504,
          "date": "2019-11-06T00:00:00+00:00",
          "funder": "no_funder",
          "order": 0
         },
         {
          "active_ads": 17519,
          "date": "2019-11-07T00:00:00+00:00",
          "funder": "no_funder",
          "order": 0
         },
         {
          "active_ads": 17510,
          "date": "2019-11-08T00:00:00+00:00",
          "funder": "no_funder",
          "order": 0
         },
         {
          "active_ads": 17473,
          "date": "2019-11-09T00:00:00+00:00",
          "funder": "no_funder",
          "order": 0
         },
         {
          "active_ads": 17461,
          "date": "2019-11-10T00:00:00+00:00",
          "funder": "no_funder",
          "order": 0
         },
         {
          "active_ads": 17418,
          "date": "2019-11-11T00:00:00+00:00",
          "funder": "no_funder",
          "order": 0
         },
         {
          "active_ads": 17434,
          "date": "2019-11-12T00:00:00+00:00",
          "funder": "no_funder",
          "order": 0
         },
         {
          "active_ads": 17433,
          "date": "2019-11-13T00:00:00+00:00",
          "funder": "no_funder",
          "order": 0
         },
         {
          "active_ads": 17435,
          "date": "2019-11-14T00:00:00+00:00",
          "funder": "no_funder",
          "order": 0
         },
         {
          "active_ads": 17391,
          "date": "2019-11-15T00:00:00+00:00",
          "funder": "no_funder",
          "order": 0
         },
         {
          "active_ads": 17343,
          "date": "2019-11-16T00:00:00+00:00",
          "funder": "no_funder",
          "order": 0
         },
         {
          "active_ads": 17334,
          "date": "2019-11-17T00:00:00+00:00",
          "funder": "no_funder",
          "order": 0
         },
         {
          "active_ads": 17324,
          "date": "2019-11-18T00:00:00+00:00",
          "funder": "no_funder",
          "order": 0
         },
         {
          "active_ads": 17327,
          "date": "2019-11-19T00:00:00+00:00",
          "funder": "no_funder",
          "order": 0
         },
         {
          "active_ads": 17321,
          "date": "2019-11-20T00:00:00+00:00",
          "funder": "no_funder",
          "order": 0
         },
         {
          "active_ads": 17314,
          "date": "2019-11-21T00:00:00+00:00",
          "funder": "no_funder",
          "order": 0
         },
         {
          "active_ads": 17319,
          "date": "2019-11-22T00:00:00+00:00",
          "funder": "no_funder",
          "order": 0
         },
         {
          "active_ads": 17307,
          "date": "2019-11-23T00:00:00+00:00",
          "funder": "no_funder",
          "order": 0
         },
         {
          "active_ads": 17283,
          "date": "2019-11-24T00:00:00+00:00",
          "funder": "no_funder",
          "order": 0
         },
         {
          "active_ads": 17248,
          "date": "2019-11-25T00:00:00+00:00",
          "funder": "no_funder",
          "order": 0
         },
         {
          "active_ads": 17257,
          "date": "2019-11-26T00:00:00+00:00",
          "funder": "no_funder",
          "order": 0
         },
         {
          "active_ads": 17262,
          "date": "2019-11-27T00:00:00+00:00",
          "funder": "no_funder",
          "order": 0
         },
         {
          "active_ads": 17254,
          "date": "2019-11-28T00:00:00+00:00",
          "funder": "no_funder",
          "order": 0
         },
         {
          "active_ads": 17251,
          "date": "2019-11-29T00:00:00+00:00",
          "funder": "no_funder",
          "order": 0
         },
         {
          "active_ads": 17249,
          "date": "2019-11-30T00:00:00+00:00",
          "funder": "no_funder",
          "order": 0
         },
         {
          "active_ads": 16344,
          "date": "2019-12-01T00:00:00+00:00",
          "funder": "no_funder",
          "order": 0
         }
        ]
       },
       "encoding": {
        "color": {
         "field": "funder",
         "legend": null,
         "scale": {
          "domain": [
           "con",
           "lab",
           "lib",
           "brx",
           "gre",
           "no_funder",
           "unclassified",
           "registered"
          ],
          "range": [
           "#149adb",
           "#cf4d3c",
           "#f09000",
           "#80cfd6",
           "#8deb9d",
           "#33302e",
           "#807973",
           "#ccc1b7"
          ]
         },
         "type": "nominal"
        },
        "order": {
         "field": "order",
         "type": "quantitative"
        },
        "tooltip": [
         {
          "field": "funder",
          "type": "nominal"
         },
         {
          "field": "active_ads",
          "type": "quantitative"
         },
         {
          "field": "date",
          "type": "temporal"
         }
        ],
        "x": {
         "axis": {
          "grid": false,
          "tickCount": 62,
          "title": null
         },
         "field": "date",
         "type": "temporal"
        },
        "y": {
         "axis": {
          "tickCount": 4,
          "title": null
         },
         "field": "active_ads",
         "type": "quantitative"
        }
       },
       "height": 500,
       "mark": "area",
       "width": 700
      },
      "image/png": "[encoded data removed]",
      "text/plain": [
       "<VegaLite 3 object>\n",
       "\n",
       "If you see this message, it means the renderer has not been properly enabled\n",
       "for the frontend that you are using. For more information, see\n",
       "https://altair-viz.github.io/user_guide/troubleshooting.html\n"
      ]
     },
     "execution_count": 9,
     "metadata": {},
     "output_type": "execute_result"
    }
   ],
   "source": [
    "alt.Chart(df_active_plot, background=\"#fff1e5\").mark_area().encode(\n",
    "    x=alt.X(\"date:T\", axis=alt.Axis(tickCount=len(df_active_daily), title=None, grid=False)),\n",
    "    y=alt.Y(\"active_ads:Q\", axis=alt.Axis(tickCount=4, title=None)),\n",
    "    color=alt.Color(\"funder:N\", scale=parties_palette, legend=None),\n",
    "    order=\"order\",\n",
    "    tooltip=[\"funder\", \"active_ads\", \"date\"],\n",
    ").properties(width=700, height=500)"
   ]
  },
  {
   "cell_type": "markdown",
   "metadata": {},
   "source": [
    "## Write to `.feather`"
   ]
  },
  {
   "cell_type": "code",
   "execution_count": 10,
   "metadata": {},
   "outputs": [],
   "source": [
    "feather.write_dataframe(df_active_daily, \"../data/processed/fb-active-ads-daily-2019-12-03.feather\")"
   ]
  }
 ],
 "metadata": {
  "kernelspec": {
   "display_name": "Python 3",
   "language": "python",
   "name": "python3"
  },
  "language_info": {
   "codemirror_mode": {
    "name": "ipython",
    "version": 3
   },
   "file_extension": ".py",
   "mimetype": "text/x-python",
   "name": "python",
   "nbconvert_exporter": "python",
   "pygments_lexer": "ipython3",
   "version": "3.6.7"
  }
 },
 "nbformat": 4,
 "nbformat_minor": 4
}
